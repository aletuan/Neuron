{
 "cells": [
  {
   "cell_type": "markdown",
   "metadata": {},
   "source": [
    "# Python Lab"
   ]
  },
  {
   "cell_type": "markdown",
   "metadata": {},
   "source": [
    "## Basic Arithmetic Operations\n",
    "This cell demonstrates basic addition of two integers."
   ]
  },
  {
   "cell_type": "markdown",
   "metadata": {},
   "source": [
    "## Integer Interning in Python\n",
    "\n",
    "Python uses **integer interning** (also called integer caching) as a memory optimization technique. For small integers in the range of -5 to 256, Python pre-creates and reuses the same integer objects rather than creating new ones each time.\n",
    "\n",
    "This means when you assign the same small integer value to different variables, they actually reference the same object in memory, which is why `id(a)` and `id(b)` return identical memory addresses.\n",
    "\n",
    "This optimization:\n",
    "\n",
    "- Reduces memory usage\n",
    "- Improves performance for frequently used small integers\n",
    "- Is completely transparent to the programmer"
   ]
  },
  {
   "cell_type": "code",
   "execution_count": 1,
   "metadata": {},
   "outputs": [
    {
     "name": "stdout",
     "output_type": "stream",
     "text": [
      "8\n"
     ]
    }
   ],
   "source": [
    "a = 5\n",
    "b = 3\n",
    "print(a + b)"
   ]
  },
  {
   "cell_type": "code",
   "execution_count": 2,
   "metadata": {},
   "outputs": [
    {
     "name": "stdout",
     "output_type": "stream",
     "text": [
      "4344447344 4344447344\n"
     ]
    }
   ],
   "source": [
    "a = 5\n",
    "b = 5\n",
    "print(id(a), id(b))"
   ]
  },
  {
   "cell_type": "markdown",
   "metadata": {},
   "source": [
    "## List Identity vs Equality\n",
    "\n",
    "This cell demonstrates the difference between identity (`is`) and equality (`==`) with lists. Unlike small integers, lists are **not** interned in Python. Even when two lists have identical contents, they are separate objects in memory with different `id()` values. The `==` operator checks if values are equal, while `is` checks if they are the same object."
   ]
  },
  {
   "cell_type": "code",
   "execution_count": 3,
   "metadata": {},
   "outputs": [
    {
     "name": "stdout",
     "output_type": "stream",
     "text": [
      "4563424448 4563421952\n",
      "True\n",
      "False\n"
     ]
    }
   ],
   "source": [
    "a = [1, 2, 3]\n",
    "b = [1, 2, 3]\n",
    "print(id(a), id(b))\n",
    "print(a == b)\n",
    "print(a is b)"
   ]
  },
  {
   "cell_type": "markdown",
   "metadata": {},
   "source": [
    "## Mutable Objects in Python\n",
    "\n",
    "Lists are **mutable objects**, meaning their contents can be modified after creation without changing their identity (memory address). This cell demonstrates how using `append()` modifies the list in-place - the `id()` remains the same before and after modification, proving it's the same object with changed contents."
   ]
  },
  {
   "cell_type": "code",
   "execution_count": 4,
   "metadata": {},
   "outputs": [
    {
     "name": "stdout",
     "output_type": "stream",
     "text": [
      "Before append:\n",
      "b = [1, 2, 3]\n",
      "id(b) = 4563422464\n",
      "\n",
      "After append:\n",
      "b = [1, 2, 3, 4]\n",
      "id(b) = 4563422464\n"
     ]
    }
   ],
   "source": [
    "b = [1, 2, 3]\n",
    "print(\"Before append:\")\n",
    "print(\"b =\", b)\n",
    "print(\"id(b) =\", id(b))\n",
    "\n",
    "b.append(4)\n",
    "print(\"\\nAfter append:\")\n",
    "print(\"b =\", b)\n",
    "print(\"id(b) =\", id(b))"
   ]
  },
  {
   "cell_type": "markdown",
   "metadata": {},
   "source": [
    "## Copying Lists\n",
    "\n",
    "This cell demonstrates different ways to create copies of lists in Python."
   ]
  },
  {
   "cell_type": "code",
   "execution_count": 5,
   "metadata": {},
   "outputs": [
    {
     "name": "stdout",
     "output_type": "stream",
     "text": [
      "[1, 2, 3] [1, 2, 3, 4]\n",
      "[1, 2, 3] [1, 2, 3, 4]\n",
      "[1, 2, [10, 20]] [1, 2, [10, 20, 30]]\n"
     ]
    }
   ],
   "source": [
    "# Method 1: Using slicing\n",
    "a = [1, 2, 3]\n",
    "b = a[:]   # Create a shallow copy\n",
    "b.append(4)\n",
    "print(a, b)\n",
    "\n",
    "# Method 2: Using list()\n",
    "a = [1, 2, 3]\n",
    "b = list(a)\n",
    "b.append(4)\n",
    "print(a, b)\n",
    "\n",
    "# Method 3: Using copy library\n",
    "import copy\n",
    "a = [1, 2, [10, 20]]\n",
    "b = copy.deepcopy(a)  # Create a deep copy\n",
    "b[2].append(30)\n",
    "print(a, b)"
   ]
  },
  {
   "cell_type": "markdown",
   "metadata": {},
   "source": [
    "## Visualizing the Difference: Shallow vs Deep Copy\n",
    "\n",
    "This example clearly demonstrates the behavior difference between `copy.copy()` (shallow) and `copy.deepcopy()` (deep):\n",
    "\n",
    "- Variable `a`: Original list with a nested list `[2, 3]`\n",
    "- Variable `b`: Shallow copy - creates a new outer list, but shares the nested list with `a`\n",
    "  - When we do `b[1].append(4)`, it modifies the shared nested list\n",
    "  - Both `a` and `b` show `[2, 3, 4]` because they point to the same nested list object\n",
    "- Variable `c`: Deep copy - creates completely independent copies at all levels\n",
    "  - When we do `c[1].append(5)`, it only modifies `c`'s own nested list\n",
    "  - `a` and `b` are unaffected\n",
    "\n",
    "Result: This proves shallow copy shares nested objects while deep copy creates truly independent copies."
   ]
  },
  {
   "cell_type": "code",
   "execution_count": 6,
   "metadata": {},
   "outputs": [
    {
     "name": "stdout",
     "output_type": "stream",
     "text": [
      "a: [1, [2, 3, 4]]\n",
      "b: [1, [2, 3, 4]]\n",
      "c: [1, [2, 3, 5]]\n"
     ]
    }
   ],
   "source": [
    "import copy\n",
    "\n",
    "a = [1, [2, 3]]\n",
    "b = copy.copy(a)      # shallow copy\n",
    "c = copy.deepcopy(a)  # deep copy\n",
    "\n",
    "b[1].append(4)\n",
    "c[1].append(5)\n",
    "\n",
    "print(\"a:\", a)\n",
    "print(\"b:\", b)\n",
    "print(\"c:\", c)"
   ]
  },
  {
   "cell_type": "markdown",
   "metadata": {},
   "source": [
    "# Data Structures in Python\n",
    "\n",
    "## Lists\n",
    "\n",
    "Python's list is one of the most versatile **data structures**. Lists are:\n",
    "\n",
    "- Ordered: Elements maintain their position\n",
    "- Mutable: Can be modified after creation\n",
    "- Dynamic: Can grow or shrink in size\n",
    "- Heterogeneous: Can contain different data types\n",
    "\n",
    "This cell demonstrates fundamental list operations: indexing to access elements and `append()` to add elements."
   ]
  },
  {
   "cell_type": "code",
   "execution_count": 7,
   "metadata": {},
   "outputs": [
    {
     "name": "stdout",
     "output_type": "stream",
     "text": [
      "10\n",
      "[10, 20, 30, 40]\n"
     ]
    }
   ],
   "source": [
    "nums = [10, 20, 30]\n",
    "print(nums[0])\n",
    "nums.append(40)\n",
    "print(nums)"
   ]
  },
  {
   "cell_type": "markdown",
   "metadata": {},
   "source": [
    "List can have different data type elements"
   ]
  },
  {
   "cell_type": "code",
   "execution_count": 8,
   "metadata": {},
   "outputs": [],
   "source": [
    "nums = [10, \"AI\", [1, 2, 3], True]"
   ]
  },
  {
   "cell_type": "code",
   "execution_count": 9,
   "metadata": {},
   "outputs": [
    {
     "name": "stdout",
     "output_type": "stream",
     "text": [
      "2\n",
      "4\n",
      "6\n",
      "8\n"
     ]
    }
   ],
   "source": [
    "nums = [1, 2, 3, 4]\n",
    "for x in nums:\n",
    "    print(x * 2)"
   ]
  },
  {
   "cell_type": "markdown",
   "metadata": {},
   "source": [
    "Another **list comprehension**"
   ]
  },
  {
   "cell_type": "code",
   "execution_count": 10,
   "metadata": {},
   "outputs": [
    {
     "name": "stdout",
     "output_type": "stream",
     "text": [
      "[2, 4, 6, 8]\n"
     ]
    }
   ],
   "source": [
    "nums = [1, 2, 3, 4]\n",
    "doubles = [x * 2 for x in nums]\n",
    "print(doubles)"
   ]
  },
  {
   "cell_type": "code",
   "execution_count": 11,
   "metadata": {},
   "outputs": [
    {
     "name": "stdout",
     "output_type": "stream",
     "text": [
      "[1, 2, 3, 4, 5, 6, 7, 8, 9]\n"
     ]
    }
   ],
   "source": [
    "matrix = [[1, 2, 3],\n",
    "          [4, 5, 6],\n",
    "          [7, 8, 9]]\n",
    "\n",
    "flattened = [x for row in matrix for x in row]\n",
    "print(flattened)"
   ]
  },
  {
   "cell_type": "markdown",
   "metadata": {},
   "source": [
    "Create an array *nums* contains element from 1 to 10. And create another array *squares* based on *num* with square operator if element is even:"
   ]
  },
  {
   "cell_type": "code",
   "execution_count": 12,
   "metadata": {},
   "outputs": [
    {
     "name": "stdout",
     "output_type": "stream",
     "text": [
      "[4, 16, 36, 64]\n"
     ]
    }
   ],
   "source": [
    "nums = list(range(1,10))\n",
    "squares = [n**2 for n in nums if n % 2 == 0]\n",
    "print(squares)"
   ]
  },
  {
   "cell_type": "markdown",
   "metadata": {},
   "source": [
    "The `range()` function creates an iterable that generates numbers on-demand using **lazy evaluation**:\n",
    "\n",
    "- Lazy Evaluation: Values are generated only when needed, not all at once\n",
    "- Memory Efficient: `range(1000000)` doesn't create a list of 1 million numbers in memory\n",
    "- Iterable: Can be used in loops, converted to lists with `list()`, or consumed by other functions\n",
    "- Immutable: The range object itself cannot be modified\n",
    "\n",
    "Example: `range(1, 10)` creates an iterable that will produce numbers 1 through 9 when iterated over, but the numbers aren't generated until you actually use them (like in a loop or when converting to a list with `list(range(1, 10))`).\n",
    "\n",
    "This is a key performance optimization in Python, especially when working with large sequences."
   ]
  },
  {
   "cell_type": "markdown",
   "metadata": {},
   "source": [
    "# NumPy"
   ]
  },
  {
   "cell_type": "markdown",
   "metadata": {},
   "source": [
    "## Introduction to NumPy Arrays\n",
    "\n",
    "**NumPy** (Numerical Python) is a fundamental library for scientific computing in Python. This cell demonstrates creating a NumPy array using `np.array()`:\n",
    "\n",
    "- NumPy arrays are more efficient than Python lists for numerical operations\n",
    "- The type `numpy.ndarray` (n-dimensional array) is the core data structure\n",
    "- Arrays are homogeneous - all elements must be the same type\n",
    "- Ideal for mathematical and scientific computations"
   ]
  },
  {
   "cell_type": "code",
   "execution_count": 13,
   "metadata": {},
   "outputs": [
    {
     "name": "stdout",
     "output_type": "stream",
     "text": [
      "[1 2 3 4 5]\n",
      "<class 'numpy.ndarray'>\n"
     ]
    }
   ],
   "source": [
    "import numpy as np\n",
    "\n",
    "arr = np.array([1, 2, 3, 4, 5])\n",
    "print(arr)\n",
    "print(type(arr))"
   ]
  },
  {
   "cell_type": "markdown",
   "metadata": {},
   "source": [
    "## Vectorized Operations in NumPy\n",
    "\n",
    "This demonstrates **vectorization** - one of NumPy's most powerful features:\n",
    "\n",
    "- Operations are applied to entire arrays at once, not element-by-element\n",
    "- `arr + 10` adds 10 to every element without needing a loop\n",
    "- Much faster than iterating through Python lists\n",
    "- Makes code cleaner and more readable\n",
    "- NumPy operations are implemented in C, providing significant performance gains"
   ]
  },
  {
   "cell_type": "code",
   "execution_count": 14,
   "metadata": {},
   "outputs": [
    {
     "name": "stdout",
     "output_type": "stream",
     "text": [
      "[11 12 13 14 15]\n"
     ]
    }
   ],
   "source": [
    "arr = np.array([1, 2, 3, 4, 5])\n",
    "print(arr + 10)"
   ]
  },
  {
   "cell_type": "code",
   "execution_count": 15,
   "metadata": {},
   "outputs": [
    {
     "name": "stdout",
     "output_type": "stream",
     "text": [
      "[5 7 9]\n",
      "[ 4 10 18]\n",
      "32\n"
     ]
    }
   ],
   "source": [
    "a = np.array([1, 2, 3])\n",
    "b = np.array([4, 5, 6])\n",
    "\n",
    "print(a + b)\n",
    "print(a * b)\n",
    "print(np.dot(a, b))"
   ]
  },
  {
   "cell_type": "markdown",
   "metadata": {},
   "source": [
    "## Matrix Multiplication: `@` Operator vs Element-wise Operations\n",
    "\n",
    "This cell demonstrates the `@` operator for **matrix multiplication**, which is fundamentally different from element-wise operations:\n",
    "\n",
    "### The `@` Operator - Matrix Multiplication\n",
    "\n",
    "- Performs linear algebra matrix multiplication (dot product)\n",
    "- Each element in the result is the sum of products of corresponding row and column elements\n",
    "- Formula: `(A @ B)[i,j] = sum of (A[i,k] * B[k,j])` for all k\n",
    "- Calculation example from this cell:\n",
    "\n",
    "  - `Result[0,0] = (1×5) + (2×7) = 5 + 14 = 19`\n",
    "  - `Result[0,1] = (1×6) + (2×8) = 6 + 16 = 22`\n",
    "  - `Result[1,0] = (3×5) + (4×7) = 15 + 28 = 43`\n",
    "  - `Result[1,1] = (3×6) + (4×8) = 18 + 32 = 50`\n",
    "\n",
    "### Element-wise Operations (`*`, `+`, `-`, `/`)\n",
    "\n",
    "- `A * B` multiplies corresponding elements: `Result[i,j] = A[i,j] * B[i,j]`\n",
    "- Simple position-by-position operation, no cross-element computation\n",
    "\n",
    "Example: \n",
    "\n",
    "`[[1,2],[3,4]] * [[5,6],[7,8]] = [[1*5, 2*6],[3*7, 4*8]] = [[5,12],[21,32]]`\n",
    "\n",
    "\n",
    "Key Difference: `@` combines multiple elements (row × column), while `*` operates on single pairs of elements."
   ]
  },
  {
   "cell_type": "code",
   "execution_count": 16,
   "metadata": {},
   "outputs": [
    {
     "name": "stdout",
     "output_type": "stream",
     "text": [
      "[[19 22]\n",
      " [43 50]]\n"
     ]
    }
   ],
   "source": [
    "A = np.array([[1, 2],\n",
    "              [3, 4]])\n",
    "\n",
    "B = np.array([[5, 6],\n",
    "              [7, 8]])\n",
    "\n",
    "print(A @ B)\n"
   ]
  },
  {
   "cell_type": "markdown",
   "metadata": {},
   "source": [
    "## NumPy Broadcasting Rules\n",
    "\n",
    "**Broadcasting** is NumPy's powerful mechanism for performing operations on arrays of different shapes. Instead of requiring arrays to have identical dimensions, NumPy automatically \"broadcasts\" smaller arrays to match larger ones.\n",
    "\n",
    "### Example 1: Adding a 1D array to a 2D matrix\n",
    "\n",
    "This cell shows `A` (shape 2×2) + `b` (shape 2):\n",
    "\n",
    "- `A` is `[[1,2], [3,4]]` (2×2 matrix)\n",
    "- `b` is `[1, 2]` (1D array with 2 elements)\n",
    "- NumPy broadcasts `b` to each row of `A`\n",
    "- Equivalent to: `[[1,2], [3,4]] + [[1,2], [1,2]]`\n",
    "- Result: `[[2,4], [4,6]]`\n",
    "\n",
    "Broadcasting rule applied: The 1D array `b` is replicated along the missing dimension (rows) to match the 2D matrix shape."
   ]
  },
  {
   "cell_type": "code",
   "execution_count": 17,
   "metadata": {},
   "outputs": [
    {
     "name": "stdout",
     "output_type": "stream",
     "text": [
      "[[2 4]\n",
      " [4 6]]\n"
     ]
    }
   ],
   "source": [
    "A = np.array([[1, 2],\n",
    "              [3, 4]])\n",
    "b = np.array([1, 2])\n",
    "print(A + b)"
   ]
  },
  {
   "cell_type": "markdown",
   "metadata": {},
   "source": [
    "### Example 2: Broadcasting with different dimension combinations\n",
    "\n",
    "This cell shows `A` (shape 3×1) + `b` (shape 3):\n",
    "\n",
    "- `A` is `[[1], [2], [3]]` (3×1 column vector)\n",
    "- `b` is `[10, 20, 30]` (1×3 row vector)\n",
    "- NumPy broadcasts both arrays to shape 3×3:\n",
    "  - `A` is replicated horizontally across columns\n",
    "  - `b` is replicated vertically down rows\n",
    "- Equivalent to: `[[1,1,1], [2,2,2], [3,3,3]] + [[10,20,30], [10,20,30], [10,20,30]]`\n",
    "- Result: `[[11,21,31], [12,22,32], [13,23,33]]`\n",
    "\n",
    "Key Broadcasting Rules:\n",
    "\n",
    "1. Arrays with fewer dimensions are padded with 1s on the left\n",
    "2. Dimensions of size 1 are stretched to match the other array\n",
    "3. If dimensions don't match and neither is 1, an error occurs\n",
    "\n",
    "Broadcasting makes code more efficient and readable by eliminating the need for explicit loops or array replication."
   ]
  },
  {
   "cell_type": "code",
   "execution_count": 18,
   "metadata": {},
   "outputs": [
    {
     "name": "stdout",
     "output_type": "stream",
     "text": [
      "[[11 21 31]\n",
      " [12 22 32]\n",
      " [13 23 33]]\n"
     ]
    }
   ],
   "source": [
    "A = np.array([[1],\n",
    "              [2],\n",
    "              [3]])\n",
    "b = np.array([10, 20, 30])\n",
    "print(A + b)"
   ]
  },
  {
   "cell_type": "markdown",
   "metadata": {},
   "source": [
    "## Matrix Multiplication with Different Shapes\n",
    "\n",
    "This cell demonstrates matrix multiplication with non-square matrices and how to determine the resulting shape:\n",
    "\n",
    "### Matrix Dimensions and Multiplication Rules\n",
    "\n",
    "- Matrix A: shape (2, 3) - 2 rows, 3 columns\n",
    "- Matrix B: shape (3, 2) - 3 rows, 2 columns\n",
    "- Result C = A @ B: shape (2, 2) - 2 rows, 2 columns\n",
    "\n",
    "### Key Rule for Matrix Multiplication\n",
    "\n",
    "For `A @ B` to be valid:\n",
    "\n",
    "- Number of columns in A must equal number of rows in B\n",
    "- In this case: A has 3 columns, B has 3 rows ✓ Valid\n",
    "- Resulting shape: (A's rows, B's columns) = (2, 2)\n",
    "\n",
    "### Calculation Example\n",
    "\n",
    "- `C[0,0] = (1×1) + (2×3) + (3×5) = 1 + 6 + 15 = 22`\n",
    "- `C[0,1] = (1×2) + (2×4) + (3×6) = 2 + 8 + 18 = 28`\n",
    "- `C[1,0] = (4×1) + (5×3) + (6×5) = 4 + 15 + 30 = 49`\n",
    "- `C[1,1] = (4×2) + (5×4) + (6×6) = 8 + 20 + 36 = 64`\n",
    "\n",
    "The `.shape` attribute shows the dimensions of the resulting array."
   ]
  },
  {
   "cell_type": "code",
   "execution_count": 19,
   "metadata": {},
   "outputs": [
    {
     "name": "stdout",
     "output_type": "stream",
     "text": [
      "[[22 28]\n",
      " [49 64]]\n",
      "(2, 2)\n"
     ]
    }
   ],
   "source": [
    "import numpy as np\n",
    "\n",
    "A = np.array([[1, 2, 3],\n",
    "              [4, 5, 6]])\n",
    "\n",
    "B = np.array([[1, 2],\n",
    "              [3, 4],\n",
    "              [5, 6]])\n",
    "\n",
    "C = A @ B\n",
    "print(C)\n",
    "print(C.shape)"
   ]
  },
  {
   "cell_type": "markdown",
   "metadata": {},
   "source": [
    "## Matrix Inverse\n",
    "\n",
    "This cell demonstrates computing the **inverse matrix** using `np.linalg.inv()`:\n",
    "\n",
    "### What is a Matrix Inverse?\n",
    "The inverse of matrix A (denoted A⁻¹) is a matrix that, when multiplied with A, produces the **identity matrix** (I):\n",
    "\n",
    "- **Property**: A @ A⁻¹ = I (identity matrix)\n",
    "- **Identity matrix**: A matrix with 1s on the diagonal and 0s elsewhere\n",
    "\n",
    "### Example from this cell\n",
    "\n",
    "- Original matrix A: `[[1, 2], [3, 4]]`\n",
    "- Inverse matrix A⁻¹: `[[-2.0, 1.0], [1.5, -0.5]]`\n",
    "- Verification A @ A⁻¹: Results in `[[1, 0], [0, 1]]` (identity matrix)\n",
    "\n",
    "### Important Notes\n",
    "\n",
    "- Only square matrices can have an inverse (same number of rows and columns)\n",
    "- Not all square matrices are invertible - the determinant must be non-zero\n",
    "- Floating-point precision: Notice `8.88e-16` instead of exact `0` - this is due to floating-point arithmetic limitations\n",
    "- Applications: Solving systems of linear equations, transformations in computer graphics, etc.\n",
    "\n",
    "The tiny value `8.88e-16` is essentially zero (within numerical precision), confirming that A @ A⁻¹ = I."
   ]
  },
  {
   "cell_type": "code",
   "execution_count": 20,
   "metadata": {},
   "outputs": [
    {
     "name": "stdout",
     "output_type": "stream",
     "text": [
      "[[-2.   1. ]\n",
      " [ 1.5 -0.5]]\n",
      "[[1.0000000e+00 0.0000000e+00]\n",
      " [8.8817842e-16 1.0000000e+00]]\n"
     ]
    }
   ],
   "source": [
    "A = np.array([[1, 2],\n",
    "              [3, 4]])\n",
    "\n",
    "invA = np.linalg.inv(A)\n",
    "print(invA)\n",
    "print(A @ invA)"
   ]
  },
  {
   "cell_type": "markdown",
   "metadata": {},
   "source": [
    "## Solving Linear Systems: `np.linalg.solve()`\n",
    "\n",
    "This cell demonstrates solving a **system of linear equations** using `np.linalg.solve()`, which is the most efficient and accurate method.\n",
    "\n",
    "### The Problem: Ax = b\n",
    "We need to find the unknown vector **x** that satisfies **Ax = b**, where:\n",
    "\n",
    "- A = coefficient matrix `[[3, 1], [1, 2]]`\n",
    "- b = result vector `[9, 8]`\n",
    "- x = unknown values we're solving for `[x, y]`\n",
    "\n",
    "### What This Represents\n",
    "This solves the system of equations:\n",
    "\n",
    "- Equation 1: 3x + 1y = 9\n",
    "- Equation 2: 1x + 2y = 8\n",
    "\n",
    "### Why Use `solve()` Instead of Matrix Inverse?\n",
    "\n",
    "While mathematically x = A⁻¹ @ b, using `np.linalg.solve(A, b)` is superior:\n",
    "\n",
    "1. Computationally efficient: Doesn't actually compute the inverse\n",
    "2. Numerically stable: Uses LU decomposition internally\n",
    "3. More accurate: Avoids accumulation of floating-point errors\n",
    "4. Better for large systems: Scales better for bigger matrices\n",
    "\n",
    "### Verification of Result\n",
    "\n",
    "The solution `[2. 3.]` means x=2, y=3. We can verify:\n",
    "\n",
    "- 3(2) + 1(3) = 6 + 3 = 9 ✓\n",
    "- 1(2) + 2(3) = 2 + 6 = 8 ✓"
   ]
  },
  {
   "cell_type": "code",
   "execution_count": 21,
   "metadata": {},
   "outputs": [
    {
     "name": "stdout",
     "output_type": "stream",
     "text": [
      "[2. 3.]\n"
     ]
    }
   ],
   "source": [
    "import numpy as np\n",
    "\n",
    "A = np.array([[3, 1],\n",
    "              [1, 2]])\n",
    "\n",
    "b = np.array([9, 8])\n",
    "\n",
    "x = np.linalg.solve(A, b)\n",
    "print(x)"
   ]
  },
  {
   "cell_type": "markdown",
   "metadata": {},
   "source": [
    "## Singular Matrices\n",
    "\n",
    "### What Happens When det(A) = 0?\n",
    "\n",
    "If the determinant of matrix A is zero, `np.linalg.solve()` will raise a **LinAlgError: Singular matrix** error.\n",
    "\n",
    "### Why Does This Happen?\n",
    "\n",
    "A **singular matrix** (determinant = 0) means:\n",
    "\n",
    "- The matrix is **not invertible** (has no inverse)\n",
    "- The system of equations has either:\n",
    "  - No solution (equations are inconsistent)\n",
    "  - Infinitely many solutions (equations are dependent/redundant)\n",
    "\n",
    "### Example of a Singular Matrix\n",
    "\n",
    "```python\n",
    "A_singular = np.array([[2, 4],\n",
    "                       [1, 2]])  # Second row is first row × 0.5\n",
    "b = np.array([6, 3])\n",
    "\n",
    "# This will raise: LinAlgError: Singular matrix\n",
    "# x = np.linalg.solve(A_singular, b)\n",
    "```\n",
    "\n",
    "The equations 2x + 4y = 6 and 1x + 2y = 3 are actually the same equation (the second is just the first divided by 2), so there are infinitely many solutions.\n",
    "\n",
    "### How to Check Before Solving\n",
    "\n",
    "Always check if det(A) ≠ 0 before using `solve()`:\n",
    "\n",
    "```python\n",
    "det_A = np.linalg.det(A)\n",
    "if abs(det_A) < 1e-10:  # Close to zero\n",
    "    print(\"Warning: Matrix is singular or nearly singular\")\n",
    "else:\n",
    "    x = np.linalg.solve(A, b)\n",
    "```"
   ]
  },
  {
   "cell_type": "markdown",
   "metadata": {},
   "source": [
    "# Regression Sample"
   ]
  },
  {
   "cell_type": "markdown",
   "metadata": {},
   "source": [
    "## Generating Sample Data for Linear Regression\n",
    "\n",
    "This cell creates synthetic data for demonstrating linear regression, simulating a real-world scenario where observations have noise.\n",
    "\n",
    "### The Data Generation Process\n",
    "\n",
    "1. Random Number Generator: `np.random.default_rng(42)`\n",
    "   - Creates a random number generator with seed 42\n",
    "   - Using a fixed seed ensures **reproducibility** - same results every time\n",
    "\n",
    "2. Sample Size: `n = 50`\n",
    "   - We generate 50 data points\n",
    "\n",
    "3. Independent Variable (x): `rng.uniform(-3, 3, size=n)`\n",
    "   - Generates 50 random values uniformly distributed between -3 and 3\n",
    "   - These are our input/predictor values\n",
    "\n",
    "4. Random Noise: `rng.normal(0, 0.8, size=n)`\n",
    "   - Generates 50 random values from a normal (Gaussian) distribution\n",
    "   - Mean = 0, Standard deviation = 0.8\n",
    "   - Simulates measurement errors or natural variability in real data\n",
    "\n",
    "5. Dependent Variable (y): `y = 3*x + 2 + noise`\n",
    "   - True relationship: y = 3x + 2 (slope=3, intercept=2)\n",
    "   - We add noise to make it realistic\n",
    "   - In regression, we'll try to recover these true parameters from the noisy data\n",
    "\n",
    "This synthetic dataset mimics real-world scenarios where we observe data with inherent noise and want to find the underlying linear relationship."
   ]
  },
  {
   "cell_type": "code",
   "execution_count": 22,
   "metadata": {},
   "outputs": [],
   "source": [
    "import numpy as np\n",
    "rng = np.random.default_rng(42)\n",
    "n = 50\n",
    "x = rng.uniform(-3, 3, size=n)\n",
    "noise = rng.normal(0, 0.8, size=n)\n",
    "y = 3*x + 2 + noise"
   ]
  },
  {
   "cell_type": "markdown",
   "metadata": {},
   "source": [
    "## Inspecting the Generated Data\n",
    "\n",
    "Let's examine the data we created and visualize the relationship between x and y to see how the noise affects the linear pattern."
   ]
  },
  {
   "cell_type": "code",
   "execution_count": 23,
   "metadata": {},
   "outputs": [
    {
     "name": "stdout",
     "output_type": "stream",
     "text": [
      "Number of samples: 50\n",
      "x range: [-2.74, 2.85]\n",
      "y range: [-6.47, 10.46]\n",
      "\n",
      "First 5 samples:\n",
      "x: [ 1.64373629 -0.36672936  2.15158752  1.18420817 -2.43493591]\n",
      "y: [ 7.47433972  0.95387517  8.68605808  6.0576551  -6.47053239]\n"
     ]
    },
    {
     "data": {
      "image/png": "[encoded data removed]",
      "text/plain": [
       "<Figure size 1000x600 with 1 Axes>"
      ]
     },
     "metadata": {},
     "output_type": "display_data"
    }
   ],
   "source": [
    "# Install matplotlib if not available\n",
    "import sys\n",
    "import subprocess\n",
    "try:\n",
    "    import matplotlib.pyplot as plt\n",
    "except ModuleNotFoundError:\n",
    "    print(\"Installing matplotlib...\")\n",
    "    subprocess.check_call([sys.executable, \"-m\", \"pip\", \"install\", \"matplotlib\"])\n",
    "    import matplotlib.pyplot as plt\n",
    "\n",
    "# Display basic statistics\n",
    "print(f\"Number of samples: {n}\")\n",
    "print(f\"x range: [{x.min():.2f}, {x.max():.2f}]\")\n",
    "print(f\"y range: [{y.min():.2f}, {y.max():.2f}]\")\n",
    "print(f\"\\nFirst 5 samples:\")\n",
    "print(f\"x: {x[:5]}\")\n",
    "print(f\"y: {y[:5]}\")\n",
    "\n",
    "# Visualize the data\n",
    "plt.figure(figsize=(10, 6))\n",
    "plt.scatter(x, y, alpha=0.6, label='Noisy data')\n",
    "plt.plot(x, 3*x + 2, 'r--', label='True line: y = 3x + 2', linewidth=2)\n",
    "plt.xlabel('x')\n",
    "plt.ylabel('y')\n",
    "plt.title('Linear Regression Sample Data')\n",
    "plt.legend()\n",
    "plt.grid(True, alpha=0.3)\n",
    "plt.show()"
   ]
  },
  {
   "cell_type": "markdown",
   "metadata": {},
   "source": [
    "## Linear Regression Using Least Squares Method\n",
    "\n",
    "This cell implements **linear regression** from scratch using the **least squares** formula to find the best-fit line for our noisy data.\n",
    "\n",
    "### The Goal\n",
    "Find the line **y = mx + b** that best fits our data by minimizing the sum of squared errors between predicted and actual y values.\n",
    "\n",
    "### The Mathematics\n",
    "\n",
    "For linear regression with intercept, we use matrix form:\n",
    "\n",
    "- Design matrix X: Each row is `[1, x_i]` where the 1 is for the intercept term\n",
    "- Parameters w: `[b, m]` where b is intercept, m is slope\n",
    "- **Least squares formula**: `w = (X^T X)^(-1) X^T y`\n",
    "\n",
    "### Step-by-Step Process\n",
    "\n",
    "1. Build design matrix X: `np.c_[np.ones_like(x), x]`\n",
    "   - Column 1: All ones (for intercept b)\n",
    "   - Column 2: The x values (for slope m)\n",
    "   - Shape: (n, 2)\n",
    "\n",
    "2. Compute X^T X: Matrix multiplication of transpose of X with X\n",
    "\n",
    "3. Compute inverse: `(X^T X)^(-1)` \n",
    "\n",
    "4. Compute X^T y: Transpose of X multiplied by y vector\n",
    "\n",
    "5. Final solution: `w = (X^T X)^(-1) X^T y`\n",
    "\n",
    "### Why This Works\n",
    "\n",
    "The least squares method finds parameters that minimize the **sum of squared residuals** (errors). This is the optimal solution when errors follow a normal distribution.\n",
    "\n",
    "### Expected Result\n",
    "\n",
    "Since we generated data with y = 3x + 2 + noise, we expect:\n",
    "\n",
    "- Slope (m) ≈ 3\n",
    "- Intercept (b) ≈ 2\n",
    "\n",
    "The values won't be exact due to the random noise we added."
   ]
  },
  {
   "cell_type": "code",
   "execution_count": 24,
   "metadata": {},
   "outputs": [
    {
     "name": "stdout",
     "output_type": "stream",
     "text": [
      "b (intercept) = 1.8632311896955387\n",
      "m (slope)     = 3.016101347688831\n"
     ]
    }
   ],
   "source": [
    "# Assuming we already have x, y from previous step\n",
    "import numpy as np\n",
    "\n",
    "# X is a matrix with 2 columns:\n",
    "#   - column 1: all 1s (for intercept b)\n",
    "#   - column 2: x values\n",
    "X = np.c_[np.ones_like(x), x]   # shape (n, 2)\n",
    "\n",
    "# Least squares formula:\n",
    "# w = (X^T X)^(-1) X^T y\n",
    "XtX = X.T @ X\n",
    "XtX_inv = np.linalg.inv(XtX)\n",
    "XtY = X.T @ y\n",
    "w = XtX_inv @ XtY\n",
    "\n",
    "b, m = w\n",
    "print(\"b (intercept) =\", b)\n",
    "print(\"m (slope)     =\", m)"
   ]
  },
  {
   "cell_type": "code",
   "execution_count": 25,
   "metadata": {},
   "outputs": [
    {
     "data": {
      "image/png": "[encoded data removed]",
      "text/plain": [
       "<Figure size 700x500 with 1 Axes>"
      ]
     },
     "metadata": {},
     "output_type": "display_data"
    }
   ],
   "source": [
    "import matplotlib.pyplot as plt\n",
    "import numpy as np\n",
    "\n",
    "# Assuming we still have x, y, b, m from previous section\n",
    "\n",
    "plt.figure(figsize=(7,5))\n",
    "\n",
    "# Plot the actual data points (x, y)\n",
    "plt.scatter(x, y, color='blue', label='Actual data')\n",
    "\n",
    "# Create 100 smooth x points to draw the regression line\n",
    "x_line = np.linspace(min(x), max(x), 100)\n",
    "y_line = m * x_line + b\n",
    "\n",
    "# Draw the regression line\n",
    "plt.plot(x_line, y_line, color='red', label=f'y = {m:.2f}x + {b:.2f}')\n",
    "\n",
    "plt.xlabel(\"x\")\n",
    "plt.ylabel(\"y\")\n",
    "plt.title(\"Linear Regression: Data and Fitted Line\")\n",
    "plt.legend()\n",
    "plt.grid(True)\n",
    "plt.show()"
   ]
  },
  {
   "cell_type": "markdown",
   "metadata": {},
   "source": [
    "## Evaluating Model Performance: Error Metrics\n",
    "\n",
    "This cell calculates error metrics to evaluate how well our linear regression model fits the data.\n",
    "\n",
    "### Predictions\n",
    "\n",
    "- **y_hat**: Predicted values using our model `y_hat = mx + b`\n",
    "- These are what our model predicts for each x value\n",
    "\n",
    "### Error Metrics\n",
    "\n",
    "**1. MAE (Mean Absolute Error)**\n",
    "\n",
    "- Formula: `MAE = mean(|y - y_hat|)`\n",
    "- Takes the average of absolute differences between actual and predicted values\n",
    "- Interpretation: On average, how far off are our predictions?\n",
    "- Advantage: Easy to interpret - same units as y\n",
    "- Use case: When you want to understand typical prediction error\n",
    "\n",
    "**2. RMSE (Root Mean Squared Error)**\n",
    "\n",
    "- Formula: `RMSE = sqrt(mean((y - y_hat)²))`\n",
    "- Takes the square root of the average squared errors\n",
    "- Penalizes large errors more than MAE due to squaring\n",
    "- Advantage: More sensitive to **outliers**\n",
    "- Use case: When large errors are particularly undesirable\n",
    "\n",
    "### Comparison\n",
    "\n",
    "- RMSE ≥ MAE (always true)\n",
    "- If RMSE >> MAE: Model has some large errors (outliers)\n",
    "- If RMSE ≈ MAE: Errors are relatively uniform\n",
    "\n",
    "### Expected Results\n",
    "\n",
    "Since we added noise with std=0.8, we expect errors around that magnitude. Lower values indicate a better fit to the data."
   ]
  },
  {
   "cell_type": "code",
   "execution_count": 26,
   "metadata": {},
   "outputs": [
    {
     "name": "stdout",
     "output_type": "stream",
     "text": [
      "MAE  = 0.5031290627410547\n",
      "RMSE = 0.605827185639896\n"
     ]
    }
   ],
   "source": [
    "# Predict y values from the model\n",
    "y_hat = m * x + b\n",
    "\n",
    "# Mean Absolute Error\n",
    "mae = np.mean(np.abs(y - y_hat))\n",
    "\n",
    "# Root Mean Squared Error\n",
    "rmse = np.sqrt(np.mean((y - y_hat)**2))\n",
    "\n",
    "print(\"MAE  =\", mae)\n",
    "print(\"RMSE =\", rmse)"
   ]
  },
  {
   "cell_type": "markdown",
   "metadata": {},
   "source": [
    "# Python Functions\n",
    "\n",
    "## Understanding Functions, Call Frames, and Variable Scope\n",
    "\n",
    "Functions are fundamental building blocks in Python that allow us to organize code into reusable pieces. Understanding how functions work internally helps write better, more maintainable code.\n",
    "\n",
    "### What is a Function?\n",
    "\n",
    "A **function** is a named block of code that performs a specific task. It can:\n",
    "\n",
    "- Accept input (parameters)\n",
    "- Perform operations\n",
    "- Return output (return value)\n",
    "\n",
    "### Call Frames and Call Stack\n",
    "\n",
    "When a function is called, Python creates a **call frame** (also called **activation record**) that contains:\n",
    "\n",
    "- **Local variables**: Variables defined within the function\n",
    "- **Parameters**: Function arguments\n",
    "- **Return address**: Where to return after the function completes\n",
    "\n",
    "The **call stack** is a data structure that manages these call frames:\n",
    "\n",
    "- When a function is called, a new frame is **pushed** onto the stack\n",
    "- When a function returns, its frame is **popped** from the stack\n",
    "- The stack follows **Last-In-First-Out (LIFO)** order\n",
    "\n",
    "### Variable Scope\n",
    "\n",
    "Python has different scopes for variables:\n",
    "\n",
    "**1. Local Variables**\n",
    "\n",
    "- Defined inside a function\n",
    "- Only accessible within that function\n",
    "- Created when function is called, destroyed when it returns\n",
    "- Stored in the function's call frame\n",
    "\n",
    "**2. Global Variables**\n",
    "\n",
    "- Defined outside all functions (at module level)\n",
    "- Accessible from anywhere in the module\n",
    "- Exist for the entire program execution\n",
    "- Should be used sparingly to avoid side effects\n",
    "\n",
    "**3. Enclosing Scope (for nested functions)**\n",
    "\n",
    "- Variables from outer function accessible to inner function\n",
    "- Enables closures\n",
    "\n",
    "### Example: How the Call Stack Works\n",
    "\n",
    "```python\n",
    "def add(a, b):      # When called: frame pushed with local vars a, b\n",
    "    result = a + b  # Local variable 'result' created\n",
    "    return result   # Frame popped, returns to caller\n",
    "```\n",
    "\n",
    "**Call stack visualization:**\n",
    "```\n",
    "main() is running\n",
    "  ↓ calls add(3, 5)\n",
    "  Stack: [main_frame, add_frame]  ← add_frame has a=3, b=5, result=8\n",
    "  ↓ add returns\n",
    "  Stack: [main_frame]  ← add_frame removed\n",
    "```\n",
    "\n",
    "This cell demonstrates a simple `add` function to illustrate these concepts."
   ]
  },
  {
   "cell_type": "code",
   "execution_count": 27,
   "metadata": {},
   "outputs": [
    {
     "name": "stdout",
     "output_type": "stream",
     "text": [
      "Global variable value: 100\n",
      "add(3, 5) = 8\n",
      "After function call, global_var = 100\n",
      "\n",
      "Error: name 'result' is not defined\n",
      "'result' is a local variable and doesn't exist outside the function\n"
     ]
    }
   ],
   "source": [
    "# Example: Function with local and global variables\n",
    "\n",
    "# Global variable\n",
    "global_var = 100\n",
    "\n",
    "def add(a, b):\n",
    "    \"\"\"\n",
    "    Adds two numbers and returns the result.\n",
    "    \n",
    "    Parameters:\n",
    "    - a, b: local variables (parameters)\n",
    "    \n",
    "    Returns:\n",
    "    - sum of a and b\n",
    "    \"\"\"\n",
    "    # Local variable\n",
    "    result = a + b\n",
    "    \n",
    "    # Can access global variable (read-only without 'global' keyword)\n",
    "    print(f\"Global variable value: {global_var}\")\n",
    "    \n",
    "    return result\n",
    "\n",
    "# Call the function\n",
    "x = 3\n",
    "y = 5\n",
    "sum_result = add(x, y)\n",
    "\n",
    "print(f\"add({x}, {y}) = {sum_result}\")\n",
    "print(f\"After function call, global_var = {global_var}\")\n",
    "\n",
    "# Demonstrate that local variables don't exist outside the function\n",
    "try:\n",
    "    print(result)  # This will raise NameError\n",
    "except NameError as e:\n",
    "    print(f\"\\nError: {e}\")\n",
    "    print(\"'result' is a local variable and doesn't exist outside the function\")"
   ]
  },
  {
   "cell_type": "markdown",
   "metadata": {},
   "source": [
    "## Understanding UnboundLocalError\n",
    "\n",
    "This cell demonstrates a common error when working with global variables inside functions: **UnboundLocalError**.\n",
    "\n",
    "### What is UnboundLocalError?\n",
    "\n",
    "`UnboundLocalError` occurs when Python detects that a variable is assigned to within a function, making it a **local variable**, but the code tries to read its value before it has been assigned.\n",
    "\n",
    "### Why Does This Happen?\n",
    "\n",
    "Python's variable resolution follows these rules:\n",
    "\n",
    "1. When Python sees an **assignment** to a variable anywhere in a function (like `count = count + 1`), it treats that variable as **local** for the entire function\n",
    "2. This decision is made during **compile time**, before the function even runs\n",
    "3. When the function executes and tries to read `count` on the right side of `count = count + 1`, Python looks for it in the local scope\n",
    "4. Since `count` hasn't been assigned locally yet, we get `UnboundLocalError`\n",
    "\n",
    "### The Problem in This Example\n",
    "\n",
    "```python\n",
    "count = 0           # Global variable\n",
    "\n",
    "def increase():\n",
    "    count = count + 1  # ERROR! Python sees assignment, makes 'count' local\n",
    "                       # But tries to read 'count' before it's assigned locally\n",
    "    print(count)\n",
    "```\n",
    "\n",
    "**What Python sees:**\n",
    "\n",
    "- Line `count = count + 1` has an assignment, so `count` is marked as LOCAL\n",
    "- Right side tries to read `count`, but local `count` doesn't exist yet\n",
    "- Result: UnboundLocalError\n",
    "\n",
    "### Solutions\n",
    "\n",
    "Solution 1: Use the `global` keyword (if you want to modify the global variable)\n",
    "```python\n",
    "def increase():\n",
    "    global count       # Declare that we're using the global 'count'\n",
    "    count = count + 1\n",
    "    print(count)\n",
    "```\n",
    "\n",
    "Solution 2: Return a new value (better practice - avoid modifying globals)\n",
    "```python\n",
    "def increase(value):\n",
    "    return value + 1\n",
    "\n",
    "count = increase(count)\n",
    "```\n",
    "\n",
    "This error is Python's way of preventing ambiguous variable scope and potential bugs!"
   ]
  },
  {
   "cell_type": "code",
   "execution_count": 28,
   "metadata": {},
   "outputs": [
    {
     "ename": "UnboundLocalError",
     "evalue": "local variable 'count' referenced before assignment",
     "output_type": "error",
     "traceback": [
      "\u001b[0;31m---------------------------------------------------------------------------\u001b[0m",
      "\u001b[0;31mUnboundLocalError\u001b[0m                         Traceback (most recent call last)",
      "Cell \u001b[0;32mIn[28], line 7\u001b[0m\n\u001b[1;32m      4\u001b[0m     count \u001b[38;5;241m=\u001b[39m count \u001b[38;5;241m+\u001b[39m \u001b[38;5;241m1\u001b[39m\n\u001b[1;32m      5\u001b[0m     \u001b[38;5;28mprint\u001b[39m(count)\n\u001b[0;32m----> 7\u001b[0m \u001b[43mincrease\u001b[49m\u001b[43m(\u001b[49m\u001b[43m)\u001b[49m\n",
      "Cell \u001b[0;32mIn[28], line 4\u001b[0m, in \u001b[0;36mincrease\u001b[0;34m()\u001b[0m\n\u001b[1;32m      3\u001b[0m \u001b[38;5;28;01mdef\u001b[39;00m\u001b[38;5;250m \u001b[39m\u001b[38;5;21mincrease\u001b[39m():\n\u001b[0;32m----> 4\u001b[0m     count \u001b[38;5;241m=\u001b[39m \u001b[43mcount\u001b[49m \u001b[38;5;241m+\u001b[39m \u001b[38;5;241m1\u001b[39m\n\u001b[1;32m      5\u001b[0m     \u001b[38;5;28mprint\u001b[39m(count)\n",
      "\u001b[0;31mUnboundLocalError\u001b[0m: local variable 'count' referenced before assignment"
     ]
    }
   ],
   "source": [
    "count = 0\n",
    "\n",
    "def increase():\n",
    "    count = count + 1\n",
    "    print(count)\n",
    "\n",
    "increase()"
   ]
  },
  {
   "cell_type": "markdown",
   "metadata": {},
   "source": [
    "# Introduction to Pandas\n",
    "\n",
    "## Working with Tabular Data\n",
    "\n",
    "**Pandas** is a powerful Python library for data manipulation and analysis. It provides data structures and tools for working with structured data, making it essential for data science, analytics, and machine learning tasks.\n",
    "\n",
    "### What is a DataFrame?\n",
    "\n",
    "A **DataFrame** is Pandas' primary data structure - a two-dimensional table similar to a spreadsheet or SQL table. It consists of:\n",
    "\n",
    "- Rows: Each row represents a record or observation\n",
    "- Columns: Each column represents a feature or variable\n",
    "- Index: Labels for rows (can be numbers, dates, or custom labels)\n",
    "- Column names: Labels for columns\n",
    "\n",
    "### Key Features of DataFrames\n",
    "\n",
    "- Handles mixed data types: Each column can have a different type (integers, strings, floats, etc.)\n",
    "- Size-mutable: You can add or remove rows and columns\n",
    "- Labeled axes: Both rows and columns have labels for easy data access\n",
    "- Powerful indexing: Select data by label, position, or boolean conditions\n",
    "- Built-in operations: Sorting, filtering, grouping, merging, and statistical functions\n",
    "\n",
    "### Creating a DataFrame\n",
    "\n",
    "The example in this cell creates a DataFrame from a Python dictionary:\n",
    "\n",
    "```python\n",
    "data = {\n",
    "    \"Name\": [\"Alice\", \"Bob\", \"Charlie\"],\n",
    "    \"Age\": [25, 30, 35],\n",
    "    \"City\": [\"Hanoi\", \"HCM\", \"Danang\"]\n",
    "}\n",
    "df = pd.DataFrame(data)\n",
    "```\n",
    "\n",
    "This creates a table with 3 rows and 3 columns, where:\n",
    "- Column keys become column names\n",
    "- List values become the data in each column\n",
    "- Row indices are automatically assigned (0, 1, 2)\n",
    "\n",
    "Pandas is built on top of NumPy and integrates seamlessly with matplotlib for data visualization, making it a cornerstone of the Python data science ecosystem."
   ]
  },
  {
   "cell_type": "code",
   "execution_count": null,
   "metadata": {},
   "outputs": [],
   "source": [
    "import sys\n",
    "import subprocess\n",
    "\n",
    "try:\n",
    "    import pandas as pd\n",
    "except ModuleNotFoundError:\n",
    "    print(\"Installing pandas...\")\n",
    "    subprocess.check_call([sys.executable, \"-m\", \"pip\", \"install\", \"pandas\"])\n",
    "    import pandas as pd"
   ]
  },
  {
   "cell_type": "code",
   "execution_count": null,
   "metadata": {},
   "outputs": [
    {
     "name": "stdout",
     "output_type": "stream",
     "text": [
      "      Name  Age    City\n",
      "0    Alice   25   Hanoi\n",
      "1      Bob   30     HCM\n",
      "2  Charlie   35  Danang\n"
     ]
    }
   ],
   "source": [
    "data = {\n",
    "    \"Name\": [\"Alice\", \"Bob\", \"Charlie\"],\n",
    "    \"Age\": [25, 30, 35],\n",
    "    \"City\": [\"Hanoi\", \"HCM\", \"Danang\"]\n",
    "}\n",
    "\n",
    "df = pd.DataFrame(data)\n",
    "print(df)"
   ]
  },
  {
   "cell_type": "code",
   "execution_count": 29,
   "metadata": {},
   "outputs": [
    {
     "name": "stdout",
     "output_type": "stream",
     "text": [
      "NumPy array:\n",
      " [[1 2 3]\n",
      " [4 5 6]]\n",
      "\n",
      "Pandas DataFrame:\n",
      "    A  B  C\n",
      "0  1  2  3\n",
      "1  4  5  6\n"
     ]
    }
   ],
   "source": [
    "import numpy as np\n",
    "import pandas as pd\n",
    "\n",
    "# NumPy array\n",
    "a = np.array([[1, 2, 3], [4, 5, 6]])\n",
    "print(\"NumPy array:\\n\", a)\n",
    "\n",
    "# Pandas DataFrame\n",
    "df = pd.DataFrame(a, columns=[\"A\", \"B\", \"C\"])\n",
    "print(\"\\nPandas DataFrame:\\n\", df)"
   ]
  },
  {
   "cell_type": "markdown",
   "metadata": {},
   "source": [
    "### NumPy Arrays vs Pandas DataFrames\n",
    "\n",
    "NumPy arrays are designed for numerical operations and scientific computing:\n",
    "\n",
    "- Homogeneous data: All elements must be the same type (all integers, all floats, etc.)\n",
    "- N-dimensional: Can represent vectors, matrices, or higher-dimensional tensors\n",
    "- Fast numerical operations: Optimized for mathematical computations\n",
    "- Accessed by position: Use integer indices like `arr[0]` or `arr[0, 1]`\n",
    "- Best for: Linear algebra, mathematical modeling, image processing\n",
    "\n",
    "Example:\n",
    "```python\n",
    "arr = np.array([[1, 2, 3], [4, 5, 6]])  # 2D array\n",
    "print(arr[0, 1])  # Access by row, column indices\n",
    "```\n",
    "\n",
    "DataFrames are built on top of NumPy but designed for structured, tabular data:\n",
    "\n",
    "- Heterogeneous data: Each column can have a different type (strings, numbers, dates, etc.)\n",
    "- Two-dimensional table: Rows and columns with labels\n",
    "- Rich functionality: Built-in methods for filtering, grouping, joining, and statistical analysis\n",
    "- Accessed by labels: Use column names like `df['Name']` or `df.loc[0, 'Name']`\n",
    "- Best for: Data cleaning, exploratory analysis, working with CSV/Excel files, SQL-like operations\n",
    "\n",
    "Example:\n",
    "```python\n",
    "df = pd.DataFrame({'Name': ['Alice', 'Bob'], 'Age': [25, 30]})\n",
    "print(df['Name'])  # Access by column name\n",
    "```\n",
    "\n",
    "### When to Use Which?\n",
    "\n",
    "- Use NumPy: When working with purely numerical data, matrices, mathematical operations, or when performance is critical\n",
    "- Use Pandas: When working with real-world datasets, mixed data types, need column labels, or performing data analysis tasks\n",
    "\n",
    "Both libraries complement each other - Pandas is built on NumPy, so you can often convert between them and use both in the same project!"
   ]
  },
  {
   "cell_type": "markdown",
   "metadata": {},
   "source": [
    "## Working with CSV file"
   ]
  },
  {
   "cell_type": "code",
   "execution_count": 42,
   "metadata": {},
   "outputs": [
    {
     "name": "stdout",
     "output_type": "stream",
     "text": [
      "File loaded successfully! Shape: (10, 6)\n",
      "      Name  Age    City  Salary   Department  Years_Experience\n",
      "0    Alice   25   Hanoi    1200  Engineering                 2\n",
      "1      Bob   30     HCM    1500    Marketing                 5\n",
      "2  Charlie   35  Danang    1800  Engineering                 8\n",
      "3    Diana   28   Hanoi    1400        Sales                 4\n",
      "4      Eve   32     HCM    1600  Engineering                 7\n"
     ]
    }
   ],
   "source": [
    "import pandas as pd\n",
    "\n",
    "try:\n",
    "    df = pd.read_csv(\"../data/data.csv\")\n",
    "    print(f\"File loaded successfully! Shape: {df.shape}\")\n",
    "    print(df.head())\n",
    "except FileNotFoundError:\n",
    "    print(\"Error: File not found. Check the path.\")\n",
    "except Exception as e:\n",
    "    print(f\"Error reading file: {e}\")"
   ]
  },
  {
   "cell_type": "markdown",
   "metadata": {},
   "source": [
    "- Reading metadata"
   ]
  },
  {
   "cell_type": "code",
   "execution_count": 47,
   "metadata": {},
   "outputs": [
    {
     "name": "stdout",
     "output_type": "stream",
     "text": [
      "<class 'pandas.core.frame.DataFrame'>\n",
      "RangeIndex: 10 entries, 0 to 9\n",
      "Data columns (total 6 columns):\n",
      " #   Column            Non-Null Count  Dtype \n",
      "---  ------            --------------  ----- \n",
      " 0   Name              10 non-null     object\n",
      " 1   Age               10 non-null     int64 \n",
      " 2   City              10 non-null     object\n",
      " 3   Salary            10 non-null     int64 \n",
      " 4   Department        10 non-null     object\n",
      " 5   Years_Experience  10 non-null     int64 \n",
      "dtypes: int64(3), object(3)\n",
      "memory usage: 608.0+ bytes\n"
     ]
    }
   ],
   "source": [
    "df.info()"
   ]
  },
  {
   "cell_type": "markdown",
   "metadata": {},
   "source": [
    "Some other useful commands with Pandas"
   ]
  },
  {
   "cell_type": "markdown",
   "metadata": {},
   "source": [
    "- Reading first 5 lines"
   ]
  },
  {
   "cell_type": "code",
   "execution_count": 45,
   "metadata": {},
   "outputs": [
    {
     "data": {
      "text/html": [
       "<div>\n",
       "<style scoped>\n",
       "    .dataframe tbody tr th:only-of-type {\n",
       "        vertical-align: middle;\n",
       "    }\n",
       "\n",
       "    .dataframe tbody tr th {\n",
       "        vertical-align: top;\n",
       "    }\n",
       "\n",
       "    .dataframe thead th {\n",
       "        text-align: right;\n",
       "    }\n",
       "</style>\n",
       "<table border=\"1\" class=\"dataframe\">\n",
       "  <thead>\n",
       "    <tr style=\"text-align: right;\">\n",
       "      <th></th>\n",
       "      <th>Name</th>\n",
       "      <th>Age</th>\n",
       "      <th>City</th>\n",
       "      <th>Salary</th>\n",
       "      <th>Department</th>\n",
       "      <th>Years_Experience</th>\n",
       "    </tr>\n",
       "  </thead>\n",
       "  <tbody>\n",
       "    <tr>\n",
       "      <th>0</th>\n",
       "      <td>Alice</td>\n",
       "      <td>25</td>\n",
       "      <td>Hanoi</td>\n",
       "      <td>1200</td>\n",
       "      <td>Engineering</td>\n",
       "      <td>2</td>\n",
       "    </tr>\n",
       "    <tr>\n",
       "      <th>1</th>\n",
       "      <td>Bob</td>\n",
       "      <td>30</td>\n",
       "      <td>HCM</td>\n",
       "      <td>1500</td>\n",
       "      <td>Marketing</td>\n",
       "      <td>5</td>\n",
       "    </tr>\n",
       "    <tr>\n",
       "      <th>2</th>\n",
       "      <td>Charlie</td>\n",
       "      <td>35</td>\n",
       "      <td>Danang</td>\n",
       "      <td>1800</td>\n",
       "      <td>Engineering</td>\n",
       "      <td>8</td>\n",
       "    </tr>\n",
       "    <tr>\n",
       "      <th>3</th>\n",
       "      <td>Diana</td>\n",
       "      <td>28</td>\n",
       "      <td>Hanoi</td>\n",
       "      <td>1400</td>\n",
       "      <td>Sales</td>\n",
       "      <td>4</td>\n",
       "    </tr>\n",
       "    <tr>\n",
       "      <th>4</th>\n",
       "      <td>Eve</td>\n",
       "      <td>32</td>\n",
       "      <td>HCM</td>\n",
       "      <td>1600</td>\n",
       "      <td>Engineering</td>\n",
       "      <td>7</td>\n",
       "    </tr>\n",
       "  </tbody>\n",
       "</table>\n",
       "</div>"
      ],
      "text/plain": [
       "      Name  Age    City  Salary   Department  Years_Experience\n",
       "0    Alice   25   Hanoi    1200  Engineering                 2\n",
       "1      Bob   30     HCM    1500    Marketing                 5\n",
       "2  Charlie   35  Danang    1800  Engineering                 8\n",
       "3    Diana   28   Hanoi    1400        Sales                 4\n",
       "4      Eve   32     HCM    1600  Engineering                 7"
      ]
     },
     "execution_count": 45,
     "metadata": {},
     "output_type": "execute_result"
    }
   ],
   "source": [
    "df.head()"
   ]
  },
  {
   "cell_type": "markdown",
   "metadata": {},
   "source": [
    "- Reading last 5 lines"
   ]
  },
  {
   "cell_type": "code",
   "execution_count": 46,
   "metadata": {},
   "outputs": [
    {
     "data": {
      "text/html": [
       "<div>\n",
       "<style scoped>\n",
       "    .dataframe tbody tr th:only-of-type {\n",
       "        vertical-align: middle;\n",
       "    }\n",
       "\n",
       "    .dataframe tbody tr th {\n",
       "        vertical-align: top;\n",
       "    }\n",
       "\n",
       "    .dataframe thead th {\n",
       "        text-align: right;\n",
       "    }\n",
       "</style>\n",
       "<table border=\"1\" class=\"dataframe\">\n",
       "  <thead>\n",
       "    <tr style=\"text-align: right;\">\n",
       "      <th></th>\n",
       "      <th>Name</th>\n",
       "      <th>Age</th>\n",
       "      <th>City</th>\n",
       "      <th>Salary</th>\n",
       "      <th>Department</th>\n",
       "      <th>Years_Experience</th>\n",
       "    </tr>\n",
       "  </thead>\n",
       "  <tbody>\n",
       "    <tr>\n",
       "      <th>5</th>\n",
       "      <td>Frank</td>\n",
       "      <td>27</td>\n",
       "      <td>Danang</td>\n",
       "      <td>1300</td>\n",
       "      <td>Marketing</td>\n",
       "      <td>3</td>\n",
       "    </tr>\n",
       "    <tr>\n",
       "      <th>6</th>\n",
       "      <td>Grace</td>\n",
       "      <td>29</td>\n",
       "      <td>Hanoi</td>\n",
       "      <td>1450</td>\n",
       "      <td>Sales</td>\n",
       "      <td>5</td>\n",
       "    </tr>\n",
       "    <tr>\n",
       "      <th>7</th>\n",
       "      <td>Henry</td>\n",
       "      <td>33</td>\n",
       "      <td>HCM</td>\n",
       "      <td>1700</td>\n",
       "      <td>Engineering</td>\n",
       "      <td>9</td>\n",
       "    </tr>\n",
       "    <tr>\n",
       "      <th>8</th>\n",
       "      <td>Ivy</td>\n",
       "      <td>26</td>\n",
       "      <td>Danang</td>\n",
       "      <td>1250</td>\n",
       "      <td>Marketing</td>\n",
       "      <td>2</td>\n",
       "    </tr>\n",
       "    <tr>\n",
       "      <th>9</th>\n",
       "      <td>Jack</td>\n",
       "      <td>31</td>\n",
       "      <td>Hanoi</td>\n",
       "      <td>1550</td>\n",
       "      <td>Sales</td>\n",
       "      <td>6</td>\n",
       "    </tr>\n",
       "  </tbody>\n",
       "</table>\n",
       "</div>"
      ],
      "text/plain": [
       "    Name  Age    City  Salary   Department  Years_Experience\n",
       "5  Frank   27  Danang    1300    Marketing                 3\n",
       "6  Grace   29   Hanoi    1450        Sales                 5\n",
       "7  Henry   33     HCM    1700  Engineering                 9\n",
       "8    Ivy   26  Danang    1250    Marketing                 2\n",
       "9   Jack   31   Hanoi    1550        Sales                 6"
      ]
     },
     "execution_count": 46,
     "metadata": {},
     "output_type": "execute_result"
    }
   ],
   "source": [
    "df.tail()"
   ]
  },
  {
   "cell_type": "markdown",
   "metadata": {},
   "source": [
    "- Basic statistical informaiton (mean, std, min, max)"
   ]
  },
  {
   "cell_type": "code",
   "execution_count": 48,
   "metadata": {},
   "outputs": [
    {
     "data": {
      "text/html": [
       "<div>\n",
       "<style scoped>\n",
       "    .dataframe tbody tr th:only-of-type {\n",
       "        vertical-align: middle;\n",
       "    }\n",
       "\n",
       "    .dataframe tbody tr th {\n",
       "        vertical-align: top;\n",
       "    }\n",
       "\n",
       "    .dataframe thead th {\n",
       "        text-align: right;\n",
       "    }\n",
       "</style>\n",
       "<table border=\"1\" class=\"dataframe\">\n",
       "  <thead>\n",
       "    <tr style=\"text-align: right;\">\n",
       "      <th></th>\n",
       "      <th>Age</th>\n",
       "      <th>Salary</th>\n",
       "      <th>Years_Experience</th>\n",
       "    </tr>\n",
       "  </thead>\n",
       "  <tbody>\n",
       "    <tr>\n",
       "      <th>count</th>\n",
       "      <td>10.000000</td>\n",
       "      <td>10.000000</td>\n",
       "      <td>10.000000</td>\n",
       "    </tr>\n",
       "    <tr>\n",
       "      <th>mean</th>\n",
       "      <td>29.600000</td>\n",
       "      <td>1475.000000</td>\n",
       "      <td>5.100000</td>\n",
       "    </tr>\n",
       "    <tr>\n",
       "      <th>std</th>\n",
       "      <td>3.204164</td>\n",
       "      <td>194.722024</td>\n",
       "      <td>2.424413</td>\n",
       "    </tr>\n",
       "    <tr>\n",
       "      <th>min</th>\n",
       "      <td>25.000000</td>\n",
       "      <td>1200.000000</td>\n",
       "      <td>2.000000</td>\n",
       "    </tr>\n",
       "    <tr>\n",
       "      <th>25%</th>\n",
       "      <td>27.250000</td>\n",
       "      <td>1325.000000</td>\n",
       "      <td>3.250000</td>\n",
       "    </tr>\n",
       "    <tr>\n",
       "      <th>50%</th>\n",
       "      <td>29.500000</td>\n",
       "      <td>1475.000000</td>\n",
       "      <td>5.000000</td>\n",
       "    </tr>\n",
       "    <tr>\n",
       "      <th>75%</th>\n",
       "      <td>31.750000</td>\n",
       "      <td>1587.500000</td>\n",
       "      <td>6.750000</td>\n",
       "    </tr>\n",
       "    <tr>\n",
       "      <th>max</th>\n",
       "      <td>35.000000</td>\n",
       "      <td>1800.000000</td>\n",
       "      <td>9.000000</td>\n",
       "    </tr>\n",
       "  </tbody>\n",
       "</table>\n",
       "</div>"
      ],
      "text/plain": [
       "             Age       Salary  Years_Experience\n",
       "count  10.000000    10.000000         10.000000\n",
       "mean   29.600000  1475.000000          5.100000\n",
       "std     3.204164   194.722024          2.424413\n",
       "min    25.000000  1200.000000          2.000000\n",
       "25%    27.250000  1325.000000          3.250000\n",
       "50%    29.500000  1475.000000          5.000000\n",
       "75%    31.750000  1587.500000          6.750000\n",
       "max    35.000000  1800.000000          9.000000"
      ]
     },
     "execution_count": 48,
     "metadata": {},
     "output_type": "execute_result"
    }
   ],
   "source": [
    "df.describe()"
   ]
  },
  {
   "cell_type": "markdown",
   "metadata": {},
   "source": [
    "- Get a single colum name"
   ]
  },
  {
   "cell_type": "code",
   "execution_count": 49,
   "metadata": {},
   "outputs": [
    {
     "name": "stdout",
     "output_type": "stream",
     "text": [
      "0      Alice\n",
      "1        Bob\n",
      "2    Charlie\n",
      "3      Diana\n",
      "4        Eve\n",
      "5      Frank\n",
      "6      Grace\n",
      "7      Henry\n",
      "8        Ivy\n",
      "9       Jack\n",
      "Name: Name, dtype: object\n"
     ]
    }
   ],
   "source": [
    "print(df[\"Name\"])"
   ]
  },
  {
   "cell_type": "markdown",
   "metadata": {},
   "source": [
    "- Read the first line"
   ]
  },
  {
   "cell_type": "code",
   "execution_count": 50,
   "metadata": {},
   "outputs": [
    {
     "name": "stdout",
     "output_type": "stream",
     "text": [
      "Name                      Alice\n",
      "Age                          25\n",
      "City                      Hanoi\n",
      "Salary                     1200\n",
      "Department          Engineering\n",
      "Years_Experience              2\n",
      "Name: 0, dtype: object\n"
     ]
    }
   ],
   "source": [
    "print(df.iloc[0])"
   ]
  },
  {
   "cell_type": "markdown",
   "metadata": {},
   "source": [
    "- Read the second line, and pick `City` column."
   ]
  },
  {
   "cell_type": "code",
   "execution_count": 51,
   "metadata": {},
   "outputs": [
    {
     "name": "stdout",
     "output_type": "stream",
     "text": [
      "HCM\n"
     ]
    }
   ],
   "source": [
    "print(df.loc[1, \"City\"])"
   ]
  },
  {
   "cell_type": "markdown",
   "metadata": {},
   "source": [
    "Example: Adding index for column"
   ]
  },
  {
   "cell_type": "code",
   "execution_count": 52,
   "metadata": {},
   "outputs": [
    {
     "name": "stdout",
     "output_type": "stream",
     "text": [
      "      Name  Age    City\n",
      "a    Alice   25   Hanoi\n",
      "b      Bob   30     HCM\n",
      "c  Charlie   35  Danang \n",
      "\n"
     ]
    }
   ],
   "source": [
    "import pandas as pd\n",
    "\n",
    "df = pd.DataFrame({\n",
    "    \"Name\": [\"Alice\", \"Bob\", \"Charlie\"],\n",
    "    \"Age\": [25, 30, 35],\n",
    "    \"City\": [\"Hanoi\", \"HCM\", \"Danang\"]\n",
    "}, index=[\"a\", \"b\", \"c\"])\n",
    "\n",
    "print(df, \"\\n\")"
   ]
  },
  {
   "cell_type": "code",
   "execution_count": null,
   "metadata": {},
   "outputs": [
    {
     "name": "stdout",
     "output_type": "stream",
     "text": [
      "iloc[0, 2]  → Hanoi\n"
     ]
    }
   ],
   "source": [
    "print(\"iloc[0, 2]  →\", df.iloc[0, 2])    # Position (0, 2)"
   ]
  },
  {
   "cell_type": "code",
   "execution_count": 55,
   "metadata": {},
   "outputs": [
    {
     "name": "stdout",
     "output_type": "stream",
     "text": [
      "loc['a', 'City'] → Hanoi\n"
     ]
    }
   ],
   "source": [
    "print(\"loc['a', 'City'] →\", df.loc[\"a\", \"City\"])  # label (a, City)"
   ]
  },
  {
   "cell_type": "markdown",
   "metadata": {},
   "source": [
    "### Data Filtering"
   ]
  },
  {
   "cell_type": "markdown",
   "metadata": {},
   "source": [
    "Given previous example, but add `Salary` field"
   ]
  },
  {
   "cell_type": "code",
   "execution_count": 56,
   "metadata": {},
   "outputs": [],
   "source": [
    "import pandas as pd\n",
    "\n",
    "df = pd.DataFrame({\n",
    "    \"Name\": [\"Alice\", \"Bob\", \"Charlie\", \"David\"],\n",
    "    \"Age\": [25, 30, 35, 28],\n",
    "    \"City\": [\"Hanoi\", \"HCM\", \"Danang\", \"Hue\"],\n",
    "    \"Salary\": [1200, 1500, 1800, 1300]\n",
    "})"
   ]
  },
  {
   "cell_type": "markdown",
   "metadata": {},
   "source": [
    "- Filter people with one condition: who have a high salary, or name start with."
   ]
  },
  {
   "cell_type": "code",
   "execution_count": 57,
   "metadata": {},
   "outputs": [
    {
     "data": {
      "text/html": [
       "<div>\n",
       "<style scoped>\n",
       "    .dataframe tbody tr th:only-of-type {\n",
       "        vertical-align: middle;\n",
       "    }\n",
       "\n",
       "    .dataframe tbody tr th {\n",
       "        vertical-align: top;\n",
       "    }\n",
       "\n",
       "    .dataframe thead th {\n",
       "        text-align: right;\n",
       "    }\n",
       "</style>\n",
       "<table border=\"1\" class=\"dataframe\">\n",
       "  <thead>\n",
       "    <tr style=\"text-align: right;\">\n",
       "      <th></th>\n",
       "      <th>Name</th>\n",
       "      <th>Age</th>\n",
       "      <th>City</th>\n",
       "      <th>Salary</th>\n",
       "    </tr>\n",
       "  </thead>\n",
       "  <tbody>\n",
       "    <tr>\n",
       "      <th>1</th>\n",
       "      <td>Bob</td>\n",
       "      <td>30</td>\n",
       "      <td>HCM</td>\n",
       "      <td>1500</td>\n",
       "    </tr>\n",
       "    <tr>\n",
       "      <th>2</th>\n",
       "      <td>Charlie</td>\n",
       "      <td>35</td>\n",
       "      <td>Danang</td>\n",
       "      <td>1800</td>\n",
       "    </tr>\n",
       "  </tbody>\n",
       "</table>\n",
       "</div>"
      ],
      "text/plain": [
       "      Name  Age    City  Salary\n",
       "1      Bob   30     HCM    1500\n",
       "2  Charlie   35  Danang    1800"
      ]
     },
     "execution_count": 57,
     "metadata": {},
     "output_type": "execute_result"
    }
   ],
   "source": [
    "df[df[\"Salary\"] > 1300]"
   ]
  },
  {
   "cell_type": "code",
   "execution_count": 60,
   "metadata": {},
   "outputs": [
    {
     "data": {
      "text/html": [
       "<div>\n",
       "<style scoped>\n",
       "    .dataframe tbody tr th:only-of-type {\n",
       "        vertical-align: middle;\n",
       "    }\n",
       "\n",
       "    .dataframe tbody tr th {\n",
       "        vertical-align: top;\n",
       "    }\n",
       "\n",
       "    .dataframe thead th {\n",
       "        text-align: right;\n",
       "    }\n",
       "</style>\n",
       "<table border=\"1\" class=\"dataframe\">\n",
       "  <thead>\n",
       "    <tr style=\"text-align: right;\">\n",
       "      <th></th>\n",
       "      <th>Name</th>\n",
       "      <th>Age</th>\n",
       "      <th>City</th>\n",
       "      <th>Salary</th>\n",
       "    </tr>\n",
       "  </thead>\n",
       "  <tbody>\n",
       "    <tr>\n",
       "      <th>0</th>\n",
       "      <td>Alice</td>\n",
       "      <td>25</td>\n",
       "      <td>Hanoi</td>\n",
       "      <td>1200</td>\n",
       "    </tr>\n",
       "  </tbody>\n",
       "</table>\n",
       "</div>"
      ],
      "text/plain": [
       "    Name  Age   City  Salary\n",
       "0  Alice   25  Hanoi    1200"
      ]
     },
     "execution_count": 60,
     "metadata": {},
     "output_type": "execute_result"
    }
   ],
   "source": [
    "df[df[\"Name\"].str.startswith(\"A\")]"
   ]
  },
  {
   "cell_type": "markdown",
   "metadata": {},
   "source": [
    "- Filter people which more conditions"
   ]
  },
  {
   "cell_type": "code",
   "execution_count": 58,
   "metadata": {},
   "outputs": [
    {
     "data": {
      "text/html": [
       "<div>\n",
       "<style scoped>\n",
       "    .dataframe tbody tr th:only-of-type {\n",
       "        vertical-align: middle;\n",
       "    }\n",
       "\n",
       "    .dataframe tbody tr th {\n",
       "        vertical-align: top;\n",
       "    }\n",
       "\n",
       "    .dataframe thead th {\n",
       "        text-align: right;\n",
       "    }\n",
       "</style>\n",
       "<table border=\"1\" class=\"dataframe\">\n",
       "  <thead>\n",
       "    <tr style=\"text-align: right;\">\n",
       "      <th></th>\n",
       "      <th>Name</th>\n",
       "      <th>Age</th>\n",
       "      <th>City</th>\n",
       "      <th>Salary</th>\n",
       "    </tr>\n",
       "  </thead>\n",
       "  <tbody>\n",
       "    <tr>\n",
       "      <th>1</th>\n",
       "      <td>Bob</td>\n",
       "      <td>30</td>\n",
       "      <td>HCM</td>\n",
       "      <td>1500</td>\n",
       "    </tr>\n",
       "  </tbody>\n",
       "</table>\n",
       "</div>"
      ],
      "text/plain": [
       "  Name  Age City  Salary\n",
       "1  Bob   30  HCM    1500"
      ]
     },
     "execution_count": 58,
     "metadata": {},
     "output_type": "execute_result"
    }
   ],
   "source": [
    "df[(df[\"Salary\"] > 1300) & (df[\"Age\"] < 35)]"
   ]
  },
  {
   "cell_type": "markdown",
   "metadata": {},
   "source": [
    "- Filter within a set"
   ]
  },
  {
   "cell_type": "code",
   "execution_count": 59,
   "metadata": {},
   "outputs": [
    {
     "data": {
      "text/html": [
       "<div>\n",
       "<style scoped>\n",
       "    .dataframe tbody tr th:only-of-type {\n",
       "        vertical-align: middle;\n",
       "    }\n",
       "\n",
       "    .dataframe tbody tr th {\n",
       "        vertical-align: top;\n",
       "    }\n",
       "\n",
       "    .dataframe thead th {\n",
       "        text-align: right;\n",
       "    }\n",
       "</style>\n",
       "<table border=\"1\" class=\"dataframe\">\n",
       "  <thead>\n",
       "    <tr style=\"text-align: right;\">\n",
       "      <th></th>\n",
       "      <th>Name</th>\n",
       "      <th>Age</th>\n",
       "      <th>City</th>\n",
       "      <th>Salary</th>\n",
       "    </tr>\n",
       "  </thead>\n",
       "  <tbody>\n",
       "    <tr>\n",
       "      <th>0</th>\n",
       "      <td>Alice</td>\n",
       "      <td>25</td>\n",
       "      <td>Hanoi</td>\n",
       "      <td>1200</td>\n",
       "    </tr>\n",
       "    <tr>\n",
       "      <th>3</th>\n",
       "      <td>David</td>\n",
       "      <td>28</td>\n",
       "      <td>Hue</td>\n",
       "      <td>1300</td>\n",
       "    </tr>\n",
       "  </tbody>\n",
       "</table>\n",
       "</div>"
      ],
      "text/plain": [
       "    Name  Age   City  Salary\n",
       "0  Alice   25  Hanoi    1200\n",
       "3  David   28    Hue    1300"
      ]
     },
     "execution_count": 59,
     "metadata": {},
     "output_type": "execute_result"
    }
   ],
   "source": [
    "df[df[\"City\"].isin([\"Hanoi\", \"Hue\"])]"
   ]
  },
  {
   "cell_type": "markdown",
   "metadata": {},
   "source": [
    "### Data Selection, Sorting"
   ]
  },
  {
   "cell_type": "code",
   "execution_count": 63,
   "metadata": {},
   "outputs": [
    {
     "name": "stdout",
     "output_type": "stream",
     "text": [
      "File loaded successfully! Shape: (10, 6)\n",
      "\n",
      "=== Salary Statistics ===\n",
      "Mean: 1475.0\n",
      "Max: 1800\n",
      "Min: 1200\n",
      "Sum: 14750\n",
      "Standard Deviation: 194.72202409246538\n",
      "\n",
      "=== Using describe() ===\n",
      "count      10.000000\n",
      "mean     1475.000000\n",
      "std       194.722024\n",
      "min      1200.000000\n",
      "25%      1325.000000\n",
      "50%      1475.000000\n",
      "75%      1587.500000\n",
      "max      1800.000000\n",
      "Name: Salary, dtype: float64\n"
     ]
    }
   ],
   "source": [
    "import pandas as pd\n",
    "\n",
    "try:\n",
    "    df = pd.read_csv(\"../data/data.csv\")\n",
    "    print(f\"File loaded successfully! Shape: {df.shape}\\n\")\n",
    "    \n",
    "    # Print statistics for Salary column\n",
    "    print(\"=== Salary Statistics ===\")\n",
    "    print(f\"Mean: {df['Salary'].mean()}\")\n",
    "    print(f\"Max: {df['Salary'].max()}\")\n",
    "    print(f\"Min: {df['Salary'].min()}\")\n",
    "    print(f\"Sum: {df['Salary'].sum()}\")\n",
    "    print(f\"Standard Deviation: {df['Salary'].std()}\")\n",
    "    \n",
    "    # Or use describe() for all stats at once\n",
    "    print(\"\\n=== Using describe() ===\")\n",
    "    print(df['Salary'].describe())\n",
    "    \n",
    "except FileNotFoundError:\n",
    "    print(\"Error: File not found. Check the path.\")\n",
    "except Exception as e:\n",
    "    print(f\"Error: {e}\")"
   ]
  },
  {
   "cell_type": "markdown",
   "metadata": {},
   "source": [
    "### Data Group"
   ]
  },
  {
   "cell_type": "markdown",
   "metadata": {},
   "source": [
    "Given the sample data"
   ]
  },
  {
   "cell_type": "code",
   "execution_count": 2,
   "metadata": {},
   "outputs": [
    {
     "name": "stdout",
     "output_type": "stream",
     "text": [
      "     City Department  Salary  Age\n",
      "0   Hanoi         IT    1200   25\n",
      "1     HCM         IT    1500   28\n",
      "2   Hanoi         HR    1000   30\n",
      "3     HCM    Finance    2000   40\n",
      "4  Danang    Finance    1800   35\n"
     ]
    }
   ],
   "source": [
    "import pandas as pd\n",
    "\n",
    "df = pd.DataFrame({\n",
    "    \"City\": [\"Hanoi\", \"HCM\", \"Hanoi\", \"HCM\", \"Danang\"],\n",
    "    \"Department\": [\"IT\", \"IT\", \"HR\", \"Finance\", \"Finance\"],\n",
    "    \"Salary\": [1200, 1500, 1000, 2000, 1800],\n",
    "    \"Age\": [25, 28, 30, 40, 35]\n",
    "})\n",
    "\n",
    "print(df)"
   ]
  },
  {
   "cell_type": "markdown",
   "metadata": {},
   "source": [
    "- Get `Salary` mean group by `City`"
   ]
  },
  {
   "cell_type": "code",
   "execution_count": 3,
   "metadata": {},
   "outputs": [
    {
     "data": {
      "text/plain": [
       "City\n",
       "Danang    1800.0\n",
       "HCM       1750.0\n",
       "Hanoi     1100.0\n",
       "Name: Salary, dtype: float64"
      ]
     },
     "execution_count": 3,
     "metadata": {},
     "output_type": "execute_result"
    }
   ],
   "source": [
    "df.groupby(\"City\")[\"Salary\"].mean()"
   ]
  },
  {
   "cell_type": "markdown",
   "metadata": {},
   "source": [
    "- Doing different statistical calculation with group"
   ]
  },
  {
   "cell_type": "code",
   "execution_count": 4,
   "metadata": {},
   "outputs": [
    {
     "data": {
      "text/html": [
       "<div>\n",
       "<style scoped>\n",
       "    .dataframe tbody tr th:only-of-type {\n",
       "        vertical-align: middle;\n",
       "    }\n",
       "\n",
       "    .dataframe tbody tr th {\n",
       "        vertical-align: top;\n",
       "    }\n",
       "\n",
       "    .dataframe thead th {\n",
       "        text-align: right;\n",
       "    }\n",
       "</style>\n",
       "<table border=\"1\" class=\"dataframe\">\n",
       "  <thead>\n",
       "    <tr style=\"text-align: right;\">\n",
       "      <th></th>\n",
       "      <th>mean</th>\n",
       "      <th>min</th>\n",
       "      <th>max</th>\n",
       "      <th>count</th>\n",
       "    </tr>\n",
       "    <tr>\n",
       "      <th>City</th>\n",
       "      <th></th>\n",
       "      <th></th>\n",
       "      <th></th>\n",
       "      <th></th>\n",
       "    </tr>\n",
       "  </thead>\n",
       "  <tbody>\n",
       "    <tr>\n",
       "      <th>Danang</th>\n",
       "      <td>1800.0</td>\n",
       "      <td>1800</td>\n",
       "      <td>1800</td>\n",
       "      <td>1</td>\n",
       "    </tr>\n",
       "    <tr>\n",
       "      <th>HCM</th>\n",
       "      <td>1750.0</td>\n",
       "      <td>1500</td>\n",
       "      <td>2000</td>\n",
       "      <td>2</td>\n",
       "    </tr>\n",
       "    <tr>\n",
       "      <th>Hanoi</th>\n",
       "      <td>1100.0</td>\n",
       "      <td>1000</td>\n",
       "      <td>1200</td>\n",
       "      <td>2</td>\n",
       "    </tr>\n",
       "  </tbody>\n",
       "</table>\n",
       "</div>"
      ],
      "text/plain": [
       "          mean   min   max  count\n",
       "City                             \n",
       "Danang  1800.0  1800  1800      1\n",
       "HCM     1750.0  1500  2000      2\n",
       "Hanoi   1100.0  1000  1200      2"
      ]
     },
     "execution_count": 4,
     "metadata": {},
     "output_type": "execute_result"
    }
   ],
   "source": [
    "df.groupby(\"City\")[\"Salary\"].agg([\"mean\", \"min\", \"max\", \"count\"])"
   ]
  },
  {
   "cell_type": "markdown",
   "metadata": {},
   "source": [
    "- Return salary deviation (max-min) group by city"
   ]
  },
  {
   "cell_type": "code",
   "execution_count": 5,
   "metadata": {},
   "outputs": [
    {
     "data": {
      "text/plain": [
       "City\n",
       "Danang      0\n",
       "HCM       500\n",
       "Hanoi     200\n",
       "Name: Salary, dtype: int64"
      ]
     },
     "execution_count": 5,
     "metadata": {},
     "output_type": "execute_result"
    }
   ],
   "source": [
    "def range_func(x):\n",
    "    return x.max() - x.min()\n",
    "\n",
    "df.groupby(\"City\")[\"Salary\"].agg(range_func)"
   ]
  },
  {
   "cell_type": "markdown",
   "metadata": {},
   "source": [
    "### Data Visualization"
   ]
  },
  {
   "cell_type": "markdown",
   "metadata": {},
   "source": [
    "Let prepare input data"
   ]
  },
  {
   "cell_type": "code",
   "execution_count": 1,
   "metadata": {},
   "outputs": [],
   "source": [
    "import pandas as pd\n",
    "import matplotlib.pyplot as plt\n",
    "\n",
    "df = pd.DataFrame({\n",
    "    \"City\": [\"Hanoi\", \"HCM\", \"Hanoi\", \"HCM\", \"Danang\", \"Hue\", \"Hanoi\"],\n",
    "    \"Salary\": [1200, 1500, 1000, 2000, 1800, 1600, 1300],\n",
    "    \"Age\": [25, 28, 30, 40, 35, 33, 26]\n",
    "})"
   ]
  },
  {
   "cell_type": "markdown",
   "metadata": {},
   "source": [
    "Then get an average of `Salary` group by the `City`"
   ]
  },
  {
   "cell_type": "code",
   "execution_count": 2,
   "metadata": {},
   "outputs": [
    {
     "name": "stdout",
     "output_type": "stream",
     "text": [
      "     City       Salary\n",
      "0  Danang  1800.000000\n",
      "1     HCM  1750.000000\n",
      "2   Hanoi  1166.666667\n",
      "3     Hue  1600.000000\n"
     ]
    }
   ],
   "source": [
    "avg_salary = df.groupby(\"City\", as_index=False)[\"Salary\"].mean()\n",
    "print(avg_salary)"
   ]
  },
  {
   "cell_type": "markdown",
   "metadata": {},
   "source": [
    "And show collected data in the bar chart"
   ]
  },
  {
   "cell_type": "code",
   "execution_count": 3,
   "metadata": {},
   "outputs": [
    {
     "data": {
      "image/png": "[encoded data removed]",
      "text/plain": [
       "<Figure size 700x500 with 1 Axes>"
      ]
     },
     "metadata": {},
     "output_type": "display_data"
    }
   ],
   "source": [
    "plt.figure(figsize=(7,5))\n",
    "plt.bar(avg_salary[\"City\"], avg_salary[\"Salary\"], color=\"skyblue\")\n",
    "plt.title(\"Average Salary by City\")\n",
    "plt.xlabel(\"City\")\n",
    "plt.ylabel(\"Average Salary\")\n",
    "plt.grid(axis=\"y\", linestyle=\"--\", alpha=0.7)\n",
    "plt.show()"
   ]
  },
  {
   "cell_type": "markdown",
   "metadata": {},
   "source": [
    "Or we can also use line chart"
   ]
  },
  {
   "cell_type": "code",
   "execution_count": 4,
   "metadata": {},
   "outputs": [
    {
     "data": {
      "image/png": "[encoded data removed]",
      "text/plain": [
       "<Figure size 700x500 with 1 Axes>"
      ]
     },
     "metadata": {},
     "output_type": "display_data"
    }
   ],
   "source": [
    "grouped = df.groupby(\"City\", as_index=False).agg({\n",
    "    \"Salary\": \"mean\",\n",
    "    \"Age\": \"mean\"\n",
    "})\n",
    "\n",
    "plt.figure(figsize=(7,5))\n",
    "plt.plot(grouped[\"City\"], grouped[\"Salary\"], marker=\"o\", label=\"Average Salary\")\n",
    "plt.plot(grouped[\"City\"], grouped[\"Age\"], marker=\"s\", label=\"Average Age\", color=\"orange\")\n",
    "plt.title(\"Average Salary and Age by City\")\n",
    "plt.xlabel(\"City\")\n",
    "plt.legend()\n",
    "plt.grid(True)\n",
    "plt.show()"
   ]
  },
  {
   "cell_type": "markdown",
   "metadata": {},
   "source": [
    "What if we want to compare `Salary` by group more than one columns. Let consider the dataset we collect salary based on both `City` and `Department` as belowing:"
   ]
  },
  {
   "cell_type": "code",
   "execution_count": 5,
   "metadata": {},
   "outputs": [],
   "source": [
    "import pandas as pd\n",
    "import matplotlib.pyplot as plt\n",
    "\n",
    "df = pd.DataFrame({\n",
    "    \"City\": [\"Hanoi\", \"Hanoi\", \"HCM\", \"HCM\", \"Danang\", \"Danang\", \"Hue\", \"Hue\"],\n",
    "    \"Department\": [\"IT\", \"HR\", \"IT\", \"Finance\", \"Finance\", \"HR\", \"IT\", \"Finance\"],\n",
    "    \"Salary\": [1200, 1000, 2000, 1800, 1600, 1400, 1300, 1250]\n",
    "})"
   ]
  },
  {
   "cell_type": "markdown",
   "metadata": {},
   "source": [
    "Get the average `Salary` by `City` and `Department`"
   ]
  },
  {
   "cell_type": "code",
   "execution_count": 6,
   "metadata": {},
   "outputs": [
    {
     "name": "stdout",
     "output_type": "stream",
     "text": [
      "Department  Finance      HR      IT\n",
      "City                               \n",
      "Danang       1600.0  1400.0     NaN\n",
      "HCM          1800.0     NaN  2000.0\n",
      "Hanoi           NaN  1000.0  1200.0\n",
      "Hue          1250.0     NaN  1300.0\n"
     ]
    }
   ],
   "source": [
    "avg_salary = df.groupby([\"City\", \"Department\"])[\"Salary\"].mean().unstack()\n",
    "print(avg_salary)"
   ]
  },
  {
   "cell_type": "markdown",
   "metadata": {},
   "source": [
    "Showing data in the chart"
   ]
  },
  {
   "cell_type": "code",
   "execution_count": 7,
   "metadata": {},
   "outputs": [
    {
     "data": {
      "image/png": "[encoded data removed]",
      "text/plain": [
       "<Figure size 800x500 with 1 Axes>"
      ]
     },
     "metadata": {},
     "output_type": "display_data"
    }
   ],
   "source": [
    "avg_salary.plot(kind=\"bar\", figsize=(8,5))\n",
    "plt.title(\"Average Salary by City and Department\")\n",
    "plt.xlabel(\"City\")\n",
    "plt.ylabel(\"Average Salary\")\n",
    "plt.grid(axis=\"y\", linestyle=\"--\", alpha=0.6)\n",
    "plt.legend(title=\"Department\")\n",
    "plt.show()"
   ]
  },
  {
   "cell_type": "markdown",
   "metadata": {},
   "source": [
    "# Scikit-learn Transformers\n",
    "\n",
    "## Data Preprocessing\n",
    "\n",
    "**Scikit-learn** is the most popular machine learning library in Python. Before we can use machine learning models, we need to **preprocess** our data - transform it into a format that models can understand and work with effectively.\n",
    "\n",
    "### Transformers in Scikit-learn?\n",
    "\n",
    "In scikit-learn, **transformers** are objects that transform data from one representation to another. They are NOT the neural network architecture (BERT, GPT, etc.) - those are different!\n",
    "\n",
    "Scikit-learn transformers are tools for:\n",
    "\n",
    "- **Scaling** numerical features (StandardScaler, MinMaxScaler)\n",
    "- **Encoding** categorical features (LabelEncoder, OneHotEncoder)\n",
    "- **Feature engineering** (PolynomialFeatures, PCA)\n",
    "- **Text processing** (TfidfVectorizer, CountVectorizer)\n",
    "\n",
    "### The Transformer API Pattern\n",
    "\n",
    "All scikit-learn transformers follow a consistent API:\n",
    "\n",
    "1. **`fit(X)`**: Learn the parameters from training data\n",
    "   - Example: StandardScaler learns the mean and std from data\n",
    "   \n",
    "2. **`transform(X)`**: Apply the transformation using learned parameters\n",
    "   - Example: Standardize new data using the learned mean and std\n",
    "   \n",
    "3. **`fit_transform(X)`**: Convenience method that does both fit + transform\n",
    "   - Equivalent to: `transformer.fit(X).transform(X)`\n",
    "\n",
    "Why is Data Preprocessing Important?\n",
    "\n",
    "- **Scale differences**: Features with different scales (e.g., Age: 20-60, Salary: 1000-5000) can bias algorithms\n",
    "- **Categorical data**: Many algorithms only work with numbers, not strings like \"Hanoi\" or \"Engineering\"\n",
    "- **Model performance**: Proper preprocessing often improves accuracy and training speed\n",
    "- **Numerical stability**: Prevents issues with very large or very small values\n",
    "\n",
    "This section explore the most common transformers using the employee dataset."
   ]
  },
  {
   "cell_type": "markdown",
   "metadata": {},
   "source": [
    "## StandardScaler - Feature Standardization\n",
    "\n",
    "**StandardScaler** transforms features to have **mean = 0** and **standard deviation = 1**. This process is called **standardization** or **z-score normalization**.\n",
    "\n",
    "### The Formula\n",
    "\n",
    "For each feature value x:\n",
    "\n",
    "```\n",
    "x_scaled = (x - mean) / std\n",
    "```\n",
    "\n",
    "### Why Use StandardScaler?\n",
    "\n",
    "Many machine learning algorithms (especially gradient-based ones like Linear Regression, Logistic Regression, Neural Networks, SVM) are sensitive to feature scales because:\n",
    "\n",
    "- Features with larger scales dominate the learning process\n",
    "- Gradients become unstable with different scales\n",
    "- Distance-based algorithms (KNN, K-Means) are affected by scale\n",
    "\n",
    "### When to Use StandardScaler\n",
    "\n",
    "- When features have different units (Age in years, Salary in dollars)\n",
    "- For algorithms that assume normally distributed data\n",
    "- When you want features to contribute equally to the model\n",
    "\n",
    "Example with Employee Data. Let's use the employee dataset and standardize Age and Salary columns."
   ]
  },
  {
   "cell_type": "code",
   "execution_count": 2,
   "metadata": {},
   "outputs": [
    {
     "name": "stdout",
     "output_type": "stream",
     "text": [
      "Original Data:\n",
      "      Name  Age  Salary\n",
      "0    Alice   25    1200\n",
      "1      Bob   30    1500\n",
      "2  Charlie   35    1800\n",
      "3    Diana   28    1400\n",
      "4      Eve   32    1600\n",
      "\n",
      "=== Statistics Before Scaling ===\n",
      "Age    - Mean: 30.00, Std: 3.81\n",
      "Salary - Mean: 1500.00, Std: 223.61\n"
     ]
    }
   ],
   "source": [
    "import sys\n",
    "import subprocess\n",
    "\n",
    "try:\n",
    "    from sklearn.preprocessing import StandardScaler\n",
    "except ModuleNotFoundError:\n",
    "    print(\"Installing scikit-learn...\")\n",
    "    subprocess.check_call([sys.executable, \"-m\", \"pip\", \"install\", \"scikit-learn\"])\n",
    "    from sklearn.preprocessing import StandardScaler\n",
    "\n",
    "import pandas as pd\n",
    "import numpy as np\n",
    "\n",
    "# Create sample employee data\n",
    "df = pd.DataFrame({\n",
    "    \"Name\": [\"Alice\", \"Bob\", \"Charlie\", \"Diana\", \"Eve\"],\n",
    "    \"Age\": [25, 30, 35, 28, 32],\n",
    "    \"Salary\": [1200, 1500, 1800, 1400, 1600]\n",
    "})\n",
    "\n",
    "print(\"Original Data:\")\n",
    "print(df)\n",
    "print(\"\\n=== Statistics Before Scaling ===\")\n",
    "print(f\"Age    - Mean: {df['Age'].mean():.2f}, Std: {df['Age'].std():.2f}\")\n",
    "print(f\"Salary - Mean: {df['Salary'].mean():.2f}, Std: {df['Salary'].std():.2f}\")"
   ]
  },
  {
   "cell_type": "code",
   "execution_count": 3,
   "metadata": {},
   "outputs": [
    {
     "name": "stdout",
     "output_type": "stream",
     "text": [
      "Learned Parameters:\n",
      "Mean values: [  30. 1500.]\n",
      "Std values:  [  3.40587727 200.        ]\n",
      "\n",
      "=== Scaled Data ===\n",
      "[[-1.46805055 -1.5       ]\n",
      " [ 0.          0.        ]\n",
      " [ 1.46805055  1.5       ]\n",
      " [-0.58722022 -0.5       ]\n",
      " [ 0.58722022  0.5       ]]\n"
     ]
    }
   ],
   "source": [
    "# Step 1: Create the scaler object\n",
    "scaler = StandardScaler()\n",
    "\n",
    "# Step 2: Select numerical columns to scale\n",
    "numerical_features = df[[\"Age\", \"Salary\"]]\n",
    "\n",
    "# Step 3: Fit the scaler (learn mean and std from data)\n",
    "scaler.fit(numerical_features)\n",
    "\n",
    "print(\"Learned Parameters:\")\n",
    "print(f\"Mean values: {scaler.mean_}\")\n",
    "print(f\"Std values:  {scaler.scale_}\")\n",
    "\n",
    "# Step 4: Transform the data\n",
    "scaled_features = scaler.transform(numerical_features)\n",
    "\n",
    "print(\"\\n=== Scaled Data ===\")\n",
    "print(scaled_features)"
   ]
  },
  {
   "cell_type": "code",
   "execution_count": 4,
   "metadata": {},
   "outputs": [
    {
     "name": "stdout",
     "output_type": "stream",
     "text": [
      "Data After Scaling:\n",
      "      Name       Age  Salary\n",
      "0    Alice -1.468051    -1.5\n",
      "1      Bob  0.000000     0.0\n",
      "2  Charlie  1.468051     1.5\n",
      "3    Diana -0.587220    -0.5\n",
      "4      Eve  0.587220     0.5\n",
      "\n",
      "=== Statistics After Scaling ===\n",
      "Age    - Mean: 0.0000000000, Std: 1.12\n",
      "Salary - Mean: 0.0000000000, Std: 1.12\n",
      "\n",
      "Notice: Mean ≈ 0 and Std ≈ 1 for both features!\n"
     ]
    }
   ],
   "source": [
    "# Create a new DataFrame with scaled features\n",
    "df_scaled = df.copy()\n",
    "df_scaled[[\"Age\", \"Salary\"]] = scaled_features\n",
    "\n",
    "print(\"Data After Scaling:\")\n",
    "print(df_scaled)\n",
    "\n",
    "print(\"\\n=== Statistics After Scaling ===\")\n",
    "print(f\"Age    - Mean: {df_scaled['Age'].mean():.10f}, Std: {df_scaled['Age'].std():.2f}\")\n",
    "print(f\"Salary - Mean: {df_scaled['Salary'].mean():.10f}, Std: {df_scaled['Salary'].std():.2f}\")\n",
    "print(\"\\nNotice: Mean ≈ 0 and Std ≈ 1 for both features!\")"
   ]
  },
  {
   "cell_type": "markdown",
   "metadata": {},
   "source": [
    "### Visualizing StandardScaler\n",
    "\n",
    "Let's visualize how StandardScaler changes the distribution of our features."
   ]
  },
  {
   "cell_type": "code",
   "execution_count": 5,
   "metadata": {},
   "outputs": [
    {
     "data": {
      "image/png": "[encoded data removed]",
      "text/plain": [
       "<Figure size 1200x500 with 2 Axes>"
      ]
     },
     "metadata": {},
     "output_type": "display_data"
    },
    {
     "name": "stdout",
     "output_type": "stream",
     "text": [
      "Key Observation:\n",
      "- Before: Different scales (Age: 25-35, Salary: 1200-1800)\n",
      "- After: Same scale (both centered at 0 with std=1)\n"
     ]
    }
   ],
   "source": [
    "import matplotlib.pyplot as plt\n",
    "\n",
    "fig, axes = plt.subplots(1, 2, figsize=(12, 5))\n",
    "\n",
    "# Before scaling\n",
    "axes[0].scatter(df[\"Age\"], df[\"Salary\"], color=\"blue\", s=100, alpha=0.6)\n",
    "axes[0].set_xlabel(\"Age\")\n",
    "axes[0].set_ylabel(\"Salary\")\n",
    "axes[0].set_title(\"Before Scaling\")\n",
    "axes[0].grid(True, alpha=0.3)\n",
    "axes[0].axhline(y=df[\"Salary\"].mean(), color=\"red\", linestyle=\"--\", label=f\"Mean Salary: {df['Salary'].mean():.0f}\")\n",
    "axes[0].axvline(x=df[\"Age\"].mean(), color=\"green\", linestyle=\"--\", label=f\"Mean Age: {df['Age'].mean():.0f}\")\n",
    "axes[0].legend()\n",
    "\n",
    "# After scaling\n",
    "axes[1].scatter(df_scaled[\"Age\"], df_scaled[\"Salary\"], color=\"orange\", s=100, alpha=0.6)\n",
    "axes[1].set_xlabel(\"Standardized Age\")\n",
    "axes[1].set_ylabel(\"Standardized Salary\")\n",
    "axes[1].set_title(\"After Scaling (StandardScaler)\")\n",
    "axes[1].grid(True, alpha=0.3)\n",
    "axes[1].axhline(y=0, color=\"red\", linestyle=\"--\", label=\"Mean ≈ 0\")\n",
    "axes[1].axvline(x=0, color=\"green\", linestyle=\"--\", label=\"Mean ≈ 0\")\n",
    "axes[1].legend()\n",
    "\n",
    "plt.tight_layout()\n",
    "plt.show()\n",
    "\n",
    "print(\"Key Observation:\")\n",
    "print(\"- Before: Different scales (Age: 25-35, Salary: 1200-1800)\")\n",
    "print(\"- After: Same scale (both centered at 0 with std=1)\")"
   ]
  },
  {
   "cell_type": "markdown",
   "metadata": {},
   "source": [
    "## MinMaxScaler - Feature Normalization\n",
    "\n",
    "**MinMaxScaler** transforms features to a fixed range, typically **[0, 1]**. This process is called **normalization** or **min-max scaling**.\n",
    "\n",
    "### The Formula\n",
    "\n",
    "For each feature value x:\n",
    "```\n",
    "x_scaled = (x - x_min) / (x_max - x_min)\n",
    "```\n",
    "\n",
    "This formula ensures:\n",
    "\n",
    "- Minimum value becomes 0\n",
    "- Maximum value becomes 1\n",
    "- All other values fall proportionally between 0 and 1\n",
    "\n",
    "### Comparing StandardScaler vs MinMaxScaler\n",
    "\n",
    "**StandardScaler:**\n",
    "\n",
    "- Output range: Unbounded (-∞ to +∞)\n",
    "- Centers data: Yes (mean = 0, std = 1)\n",
    "- Effect on outliers: Less sensitive\n",
    "- Best for: Data that follows normal distribution\n",
    "- Use case: Most gradient-based ML algorithms (Linear Regression, Logistic Regression, Neural Networks, SVM)\n",
    "\n",
    "**MinMaxScaler:**\n",
    "\n",
    "- Output range: Fixed [0, 1] (or custom [min, max])\n",
    "- Centers data: No (preserves original distribution shape)\n",
    "- Effect on outliers: Very sensitive (outliers affect the entire scaling)\n",
    "- Best for: When you need bounded output in a specific range\n",
    "- Use case: Neural networks with sigmoid/tanh activation, image processing, when feature bounds are meaningful\n",
    "\n",
    "### When to Use MinMaxScaler\n",
    "\n",
    "- When you need features in a specific range (e.g., for neural networks with sigmoid/tanh activation)\n",
    "- When the feature bounds are meaningful\n",
    "- When you want to preserve zero values\n",
    "- For image pixel values (already in [0, 255])\n",
    "\n",
    "Let's apply MinMaxScaler to the same employee data."
   ]
  },
  {
   "cell_type": "code",
   "execution_count": 6,
   "metadata": {},
   "outputs": [
    {
     "name": "stdout",
     "output_type": "stream",
     "text": [
      "Original Data:\n",
      "      Name  Age  Salary\n",
      "0    Alice   25    1200\n",
      "1      Bob   30    1500\n",
      "2  Charlie   35    1800\n",
      "3    Diana   28    1400\n",
      "4      Eve   32    1600\n",
      "\n",
      "=== MinMaxScaler Parameters ===\n",
      "Min values: [  25. 1200.]\n",
      "Max values: [  35. 1800.]\n",
      "\n",
      "=== Scaled Data (MinMaxScaler) ===\n",
      "[[0.         0.        ]\n",
      " [0.5        0.5       ]\n",
      " [1.         1.        ]\n",
      " [0.3        0.33333333]\n",
      " [0.7        0.66666667]]\n"
     ]
    }
   ],
   "source": [
    "from sklearn.preprocessing import MinMaxScaler\n",
    "\n",
    "# Use the same original data\n",
    "print(\"Original Data:\")\n",
    "print(df)\n",
    "\n",
    "# Create MinMaxScaler\n",
    "minmax_scaler = MinMaxScaler()\n",
    "\n",
    "# Fit and transform\n",
    "numerical_features = df[[\"Age\", \"Salary\"]]\n",
    "minmax_scaled = minmax_scaler.fit_transform(numerical_features)\n",
    "\n",
    "print(\"\\n=== MinMaxScaler Parameters ===\")\n",
    "print(f\"Min values: {minmax_scaler.data_min_}\")\n",
    "print(f\"Max values: {minmax_scaler.data_max_}\")\n",
    "\n",
    "print(\"\\n=== Scaled Data (MinMaxScaler) ===\")\n",
    "print(minmax_scaled)"
   ]
  },
  {
   "cell_type": "code",
   "execution_count": 7,
   "metadata": {},
   "outputs": [
    {
     "name": "stdout",
     "output_type": "stream",
     "text": [
      "Data After MinMaxScaler:\n",
      "      Name  Age    Salary\n",
      "0    Alice  0.0  0.000000\n",
      "1      Bob  0.5  0.500000\n",
      "2  Charlie  1.0  1.000000\n",
      "3    Diana  0.3  0.333333\n",
      "4      Eve  0.7  0.666667\n",
      "\n",
      "=== Statistics After MinMaxScaler ===\n",
      "Age    - Min: 0.00, Max: 1.00\n",
      "Salary - Min: 0.00, Max: 1.00\n",
      "\n",
      "Notice: All values are now between 0 and 1!\n"
     ]
    }
   ],
   "source": [
    "# Create DataFrame with MinMaxScaler results\n",
    "df_minmax = df.copy()\n",
    "df_minmax[[\"Age\", \"Salary\"]] = minmax_scaled\n",
    "\n",
    "print(\"Data After MinMaxScaler:\")\n",
    "print(df_minmax)\n",
    "\n",
    "print(\"\\n=== Statistics After MinMaxScaler ===\")\n",
    "print(f\"Age    - Min: {df_minmax['Age'].min():.2f}, Max: {df_minmax['Age'].max():.2f}\")\n",
    "print(f\"Salary - Min: {df_minmax['Salary'].min():.2f}, Max: {df_minmax['Salary'].max():.2f}\")\n",
    "print(\"\\nNotice: All values are now between 0 and 1!\")"
   ]
  },
  {
   "cell_type": "markdown",
   "metadata": {},
   "source": [
    "### Comparing StandardScaler vs MinMaxScaler\n",
    "\n",
    "Let's visualize both scalers side-by-side to understand their differences."
   ]
  },
  {
   "cell_type": "code",
   "execution_count": 8,
   "metadata": {},
   "outputs": [
    {
     "data": {
      "image/png": "[encoded data removed]",
      "text/plain": [
       "<Figure size 1500x500 with 3 Axes>"
      ]
     },
     "metadata": {},
     "output_type": "display_data"
    },
    {
     "name": "stdout",
     "output_type": "stream",
     "text": [
      "Key Differences:\n",
      "- Original: Different scales, actual values\n",
      "- StandardScaler: Centered at 0, unbounded range\n",
      "- MinMaxScaler: Compressed to [0,1], preserves relative distances\n"
     ]
    }
   ],
   "source": [
    "import matplotlib.pyplot as plt\n",
    "\n",
    "fig, axes = plt.subplots(1, 3, figsize=(15, 5))\n",
    "\n",
    "# Original data\n",
    "axes[0].scatter(df[\"Age\"], df[\"Salary\"], color=\"blue\", s=100, alpha=0.6)\n",
    "axes[0].set_xlabel(\"Age\")\n",
    "axes[0].set_ylabel(\"Salary\")\n",
    "axes[0].set_title(\"Original Data\")\n",
    "axes[0].grid(True, alpha=0.3)\n",
    "\n",
    "# StandardScaler\n",
    "axes[1].scatter(df_scaled[\"Age\"], df_scaled[\"Salary\"], color=\"orange\", s=100, alpha=0.6)\n",
    "axes[1].set_xlabel(\"Age (Standardized)\")\n",
    "axes[1].set_ylabel(\"Salary (Standardized)\")\n",
    "axes[1].set_title(\"StandardScaler\\n(mean=0, std=1)\")\n",
    "axes[1].grid(True, alpha=0.3)\n",
    "axes[1].axhline(y=0, color=\"red\", linestyle=\"--\", alpha=0.5)\n",
    "axes[1].axvline(x=0, color=\"red\", linestyle=\"--\", alpha=0.5)\n",
    "\n",
    "# MinMaxScaler\n",
    "axes[2].scatter(df_minmax[\"Age\"], df_minmax[\"Salary\"], color=\"green\", s=100, alpha=0.6)\n",
    "axes[2].set_xlabel(\"Age (Normalized)\")\n",
    "axes[2].set_ylabel(\"Salary (Normalized)\")\n",
    "axes[2].set_title(\"MinMaxScaler\\n(range [0,1])\")\n",
    "axes[2].grid(True, alpha=0.3)\n",
    "axes[2].set_xlim(-0.1, 1.1)\n",
    "axes[2].set_ylim(-0.1, 1.1)\n",
    "\n",
    "plt.tight_layout()\n",
    "plt.show()\n",
    "\n",
    "print(\"Key Differences:\")\n",
    "print(\"- Original: Different scales, actual values\")\n",
    "print(\"- StandardScaler: Centered at 0, unbounded range\")\n",
    "print(\"- MinMaxScaler: Compressed to [0,1], preserves relative distances\")"
   ]
  }
 ],
 "metadata": {
  "colab": {
   "provenance": []
  },
  "kernelspec": {
   "display_name": "Python 3",
   "language": "python",
   "name": "python3"
  },
  "language_info": {
   "codemirror_mode": {
    "name": "ipython",
    "version": 3
   },
   "file_extension": ".py",
   "mimetype": "text/x-python",
   "name": "python",
   "nbconvert_exporter": "python",
   "pygments_lexer": "ipython3",
   "version": "3.10.19"
  }
 },
 "nbformat": 4,
 "nbformat_minor": 4
}
