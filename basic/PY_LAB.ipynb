{
 "cells": [
  {
   "cell_type": "markdown",
   "metadata": {},
   "source": [
    "# Python Lab"
   ]
  },
  {
   "cell_type": "markdown",
   "metadata": {},
   "source": [
    "## Basic Arithmetic Operations\n",
    "This cell demonstrates basic addition of two integers."
   ]
  },
  {
   "cell_type": "markdown",
   "metadata": {},
   "source": [
    "## Integer Interning in Python\n",
    "\n",
    "Python uses **integer interning** (also called **integer caching**) as a memory optimization technique. For small integers in the range of -5 to 256, Python pre-creates and reuses the same integer objects rather than creating new ones each time.\n",
    "\n",
    "This means when you assign the same small integer value to different variables, they actually reference the same object in memory, which is why `id(a)` and `id(b)` return identical memory addresses.\n",
    "\n",
    "This optimization:\n",
    "\n",
    "- Reduces memory usage\n",
    "- Improves performance for frequently used small integers\n",
    "- Is completely transparent to the programmer"
   ]
  },
  {
   "cell_type": "code",
   "execution_count": 33,
   "metadata": {},
   "outputs": [
    {
     "name": "stdout",
     "output_type": "stream",
     "text": [
      "8\n"
     ]
    }
   ],
   "source": [
    "a = 5\n",
    "b = 3\n",
    "print(a + b)"
   ]
  },
  {
   "cell_type": "code",
   "execution_count": 34,
   "metadata": {},
   "outputs": [
    {
     "name": "stdout",
     "output_type": "stream",
     "text": [
      "4341137776 4341137776\n"
     ]
    }
   ],
   "source": [
    "a = 5\n",
    "b = 5\n",
    "print(id(a), id(b))"
   ]
  },
  {
   "cell_type": "markdown",
   "metadata": {},
   "source": [
    "## List Identity vs Equality\n",
    "\n",
    "This cell demonstrates the difference between identity (`is`) and equality (`==`) with lists. Unlike small integers, lists are **not** interned in Python. Even when two lists have identical contents, they are separate objects in memory with different `id()` values. The `==` operator checks if values are equal, while `is` checks if they are the same object."
   ]
  },
  {
   "cell_type": "code",
   "execution_count": 35,
   "metadata": {},
   "outputs": [
    {
     "name": "stdout",
     "output_type": "stream",
     "text": [
      "4470112192 4469162112\n",
      "True\n",
      "False\n"
     ]
    }
   ],
   "source": [
    "a = [1, 2, 3]\n",
    "b = [1, 2, 3]\n",
    "print(id(a), id(b))\n",
    "print(a == b)\n",
    "print(a is b)"
   ]
  },
  {
   "cell_type": "markdown",
   "metadata": {},
   "source": [
    "## Mutable Objects in Python\n",
    "\n",
    "Lists are **mutable objects**, meaning their contents can be modified after creation without changing their identity (memory address). This cell demonstrates how using `append()` modifies the list in-place - the `id()` remains the same before and after modification, proving it's the same object with changed contents."
   ]
  },
  {
   "cell_type": "code",
   "execution_count": 36,
   "metadata": {},
   "outputs": [
    {
     "name": "stdout",
     "output_type": "stream",
     "text": [
      "Before append:\n",
      "b = [1, 2, 3]\n",
      "id(b) = 4563591808\n",
      "\n",
      "After append:\n",
      "b = [1, 2, 3, 4]\n",
      "id(b) = 4563591808\n"
     ]
    }
   ],
   "source": [
    "b = [1, 2, 3]\n",
    "print(\"Before append:\")\n",
    "print(\"b =\", b)\n",
    "print(\"id(b) =\", id(b))\n",
    "\n",
    "b.append(4)\n",
    "print(\"\\nAfter append:\")\n",
    "print(\"b =\", b)\n",
    "print(\"id(b) =\", id(b))"
   ]
  },
  {
   "cell_type": "markdown",
   "metadata": {},
   "source": [
    "## Copying Lists\n",
    "\n",
    "This cell demonstrates different ways to create copies of lists in Python."
   ]
  },
  {
   "cell_type": "code",
   "execution_count": 37,
   "metadata": {},
   "outputs": [
    {
     "name": "stdout",
     "output_type": "stream",
     "text": [
      "[1, 2, 3] [1, 2, 3, 4]\n",
      "[1, 2, 3] [1, 2, 3, 4]\n",
      "[1, 2, [10, 20]] [1, 2, [10, 20, 30]]\n"
     ]
    }
   ],
   "source": [
    "# Cách 1: Dùng slicing\n",
    "a = [1, 2, 3]\n",
    "b = a[:]   # tạo bản sao nông (shallow copy)\n",
    "b.append(4)\n",
    "print(a, b)\n",
    "\n",
    "# Cách 2: Dùng list()\n",
    "a = [1, 2, 3]\n",
    "b = list(a)\n",
    "b.append(4)\n",
    "print(a, b)\n",
    "\n",
    "# Cách 3: Dùng thư viện copy\n",
    "import copy\n",
    "a = [1, 2, [10, 20]]\n",
    "b = copy.deepcopy(a)  # tạo bản sao sâu (deep copy)\n",
    "b[2].append(30)\n",
    "print(a, b)"
   ]
  },
  {
   "cell_type": "markdown",
   "metadata": {},
   "source": [
    "## Visualizing the Difference: Shallow vs Deep Copy\n",
    "\n",
    "This example clearly demonstrates the behavior difference between `copy.copy()` (shallow) and `copy.deepcopy()` (deep):\n",
    "\n",
    "- **Variable `a`**: Original list with a nested list `[2, 3]`\n",
    "- **Variable `b`**: Shallow copy - creates a new outer list, but shares the nested list with `a`\n",
    "  - When we do `b[1].append(4)`, it modifies the shared nested list\n",
    "  - Both `a` and `b` show `[2, 3, 4]` because they point to the same nested list object\n",
    "- **Variable `c`**: Deep copy - creates completely independent copies at all levels\n",
    "  - When we do `c[1].append(5)`, it only modifies `c`'s own nested list\n",
    "  - `a` and `b` are unaffected\n",
    "\n",
    "**Result**: This proves shallow copy shares nested objects while deep copy creates truly independent copies."
   ]
  },
  {
   "cell_type": "code",
   "execution_count": 38,
   "metadata": {},
   "outputs": [
    {
     "name": "stdout",
     "output_type": "stream",
     "text": [
      "a: [1, [2, 3, 4]]\n",
      "b: [1, [2, 3, 4]]\n",
      "c: [1, [2, 3, 5]]\n"
     ]
    }
   ],
   "source": [
    "import copy\n",
    "\n",
    "a = [1, [2, 3]]\n",
    "b = copy.copy(a)      # shallow copy\n",
    "c = copy.deepcopy(a)  # deep copy\n",
    "\n",
    "b[1].append(4)\n",
    "c[1].append(5)\n",
    "\n",
    "print(\"a:\", a)\n",
    "print(\"b:\", b)\n",
    "print(\"c:\", c)"
   ]
  },
  {
   "cell_type": "markdown",
   "metadata": {},
   "source": [
    "# Data Structures in Python - Lists\n",
    "\n",
    "Python's **list** is one of the most versatile data structures. Lists are:\n",
    "\n",
    "- **Ordered**: Elements maintain their position\n",
    "- **Mutable**: Can be modified after creation\n",
    "- **Dynamic**: Can grow or shrink in size\n",
    "- **Heterogeneous**: Can contain different data types\n",
    "\n",
    "This cell demonstrates fundamental list operations: indexing to access elements and `append()` to add elements."
   ]
  },
  {
   "cell_type": "code",
   "execution_count": 39,
   "metadata": {},
   "outputs": [
    {
     "name": "stdout",
     "output_type": "stream",
     "text": [
      "10\n",
      "[10, 20, 30, 40]\n"
     ]
    }
   ],
   "source": [
    "nums = [10, 20, 30]\n",
    "print(nums[0])\n",
    "nums.append(40)\n",
    "print(nums)"
   ]
  },
  {
   "cell_type": "markdown",
   "metadata": {},
   "source": [
    "List can have different data type elements"
   ]
  },
  {
   "cell_type": "code",
   "execution_count": 40,
   "metadata": {},
   "outputs": [],
   "source": [
    "nums = [10, \"AI\", [1, 2, 3], True]"
   ]
  },
  {
   "cell_type": "code",
   "execution_count": 41,
   "metadata": {},
   "outputs": [
    {
     "name": "stdout",
     "output_type": "stream",
     "text": [
      "2\n",
      "4\n",
      "6\n",
      "8\n"
     ]
    }
   ],
   "source": [
    "nums = [1, 2, 3, 4]\n",
    "for x in nums:\n",
    "    print(x * 2)"
   ]
  },
  {
   "cell_type": "markdown",
   "metadata": {},
   "source": [
    "Another **list comprehension**"
   ]
  },
  {
   "cell_type": "code",
   "execution_count": 42,
   "metadata": {},
   "outputs": [
    {
     "name": "stdout",
     "output_type": "stream",
     "text": [
      "[2, 4, 6, 8]\n"
     ]
    }
   ],
   "source": [
    "nums = [1, 2, 3, 4]\n",
    "doubles = [x * 2 for x in nums]\n",
    "print(doubles)"
   ]
  },
  {
   "cell_type": "code",
   "execution_count": 43,
   "metadata": {},
   "outputs": [
    {
     "name": "stdout",
     "output_type": "stream",
     "text": [
      "[1, 2, 3, 4, 5, 6, 7, 8, 9]\n"
     ]
    }
   ],
   "source": [
    "matrix = [[1, 2, 3],\n",
    "          [4, 5, 6],\n",
    "          [7, 8, 9]]\n",
    "\n",
    "flattened = [x for row in matrix for x in row]\n",
    "print(flattened)"
   ]
  },
  {
   "cell_type": "markdown",
   "metadata": {},
   "source": [
    "Create an array *nums* contains element from 1 to 10. And create another array *squares* based on *num* with square operator if element is even:"
   ]
  },
  {
   "cell_type": "code",
   "execution_count": 44,
   "metadata": {},
   "outputs": [
    {
     "name": "stdout",
     "output_type": "stream",
     "text": [
      "[4, 16, 36, 64]\n"
     ]
    }
   ],
   "source": [
    "nums = list(range(1,10))\n",
    "squares = [n**2 for n in nums if n % 2 == 0]\n",
    "print(squares)"
   ]
  },
  {
   "cell_type": "markdown",
   "metadata": {},
   "source": [
    "## Note: The `range()` Function and Lazy Evaluation\n",
    "\n",
    "The `range()` function creates an **iterable** that generates numbers on-demand using **lazy evaluation**:\n",
    "\n",
    "- **Lazy Evaluation**: Values are generated only when needed, not all at once\n",
    "- **Memory Efficient**: `range(1000000)` doesn't create a list of 1 million numbers in memory\n",
    "- **Iterable**: Can be used in loops, converted to lists with `list()`, or consumed by other functions\n",
    "- **Immutable**: The range object itself cannot be modified\n",
    "\n",
    "Example: `range(1, 10)` creates an iterable that will produce numbers 1 through 9 when iterated over, but the numbers aren't generated until you actually use them (like in a loop or when converting to a list with `list(range(1, 10))`).\n",
    "\n",
    "This is a key performance optimization in Python, especially when working with large sequences."
   ]
  },
  {
   "cell_type": "markdown",
   "metadata": {},
   "source": [
    "# NumPy"
   ]
  },
  {
   "cell_type": "markdown",
   "metadata": {},
   "source": [
    "## Introduction to NumPy Arrays\n",
    "\n",
    "**NumPy** (Numerical Python) is a fundamental library for scientific computing in Python. This cell demonstrates creating a NumPy array using `np.array()`:\n",
    "\n",
    "- NumPy arrays are more efficient than Python lists for numerical operations\n",
    "- The type `numpy.ndarray` (n-dimensional array) is the core data structure\n",
    "- Arrays are homogeneous - all elements must be the same type\n",
    "- Ideal for mathematical and scientific computations"
   ]
  },
  {
   "cell_type": "code",
   "execution_count": 45,
   "metadata": {},
   "outputs": [
    {
     "name": "stdout",
     "output_type": "stream",
     "text": [
      "[1 2 3 4 5]\n",
      "<class 'numpy.ndarray'>\n"
     ]
    }
   ],
   "source": [
    "import numpy as np\n",
    "\n",
    "arr = np.array([1, 2, 3, 4, 5])\n",
    "print(arr)\n",
    "print(type(arr))"
   ]
  },
  {
   "cell_type": "markdown",
   "metadata": {},
   "source": [
    "## Vectorized Operations in NumPy\n",
    "\n",
    "This demonstrates **vectorization** - one of NumPy's most powerful features:\n",
    "\n",
    "- Operations are applied to entire arrays at once, not element-by-element\n",
    "- `arr + 10` adds 10 to every element without needing a loop\n",
    "- Much faster than iterating through Python lists\n",
    "- Makes code cleaner and more readable\n",
    "- NumPy operations are implemented in C, providing significant performance gains"
   ]
  },
  {
   "cell_type": "code",
   "execution_count": 46,
   "metadata": {},
   "outputs": [
    {
     "name": "stdout",
     "output_type": "stream",
     "text": [
      "[11 12 13 14 15]\n"
     ]
    }
   ],
   "source": [
    "arr = np.array([1, 2, 3, 4, 5])\n",
    "print(arr + 10)"
   ]
  },
  {
   "cell_type": "code",
   "execution_count": 47,
   "metadata": {},
   "outputs": [
    {
     "name": "stdout",
     "output_type": "stream",
     "text": [
      "[5 7 9]\n",
      "[ 4 10 18]\n",
      "32\n"
     ]
    }
   ],
   "source": [
    "a = np.array([1, 2, 3])\n",
    "b = np.array([4, 5, 6])\n",
    "\n",
    "print(a + b)\n",
    "print(a * b)\n",
    "print(np.dot(a, b))"
   ]
  },
  {
   "cell_type": "markdown",
   "metadata": {},
   "source": [
    "## Matrix Multiplication: `@` Operator vs Element-wise Operations\n",
    "\n",
    "This cell demonstrates the `@` operator for **matrix multiplication**, which is fundamentally different from element-wise operations:\n",
    "\n",
    "### The `@` Operator - Matrix Multiplication\n",
    "- Performs **linear algebra matrix multiplication** (dot product)\n",
    "- Each element in the result is the sum of products of corresponding row and column elements\n",
    "- Formula: `(A @ B)[i,j] = sum of (A[i,k] * B[k,j])` for all k\n",
    "- **Calculation example from this cell**:\n",
    "  - `Result[0,0] = (1×5) + (2×7) = 5 + 14 = 19`\n",
    "  - `Result[0,1] = (1×6) + (2×8) = 6 + 16 = 22`\n",
    "  - `Result[1,0] = (3×5) + (4×7) = 15 + 28 = 43`\n",
    "  - `Result[1,1] = (3×6) + (4×8) = 18 + 32 = 50`\n",
    "\n",
    "### Element-wise Operations (`*`, `+`, `-`, `/`)\n",
    "- `A * B` multiplies corresponding elements: `Result[i,j] = A[i,j] * B[i,j]`\n",
    "- Example: `[[1,2],[3,4]] * [[5,6],[7,8]] = [[1*5, 2*6],[3*7, 4*8]] = [[5,12],[21,32]]`\n",
    "- Simple position-by-position operation, no cross-element computation\n",
    "\n",
    "**Key Difference**: `@` combines multiple elements (row × column), while `*` operates on single pairs of elements."
   ]
  },
  {
   "cell_type": "code",
   "execution_count": 48,
   "metadata": {},
   "outputs": [
    {
     "name": "stdout",
     "output_type": "stream",
     "text": [
      "[[19 22]\n",
      " [43 50]]\n"
     ]
    }
   ],
   "source": [
    "A = np.array([[1, 2],\n",
    "              [3, 4]])\n",
    "\n",
    "B = np.array([[5, 6],\n",
    "              [7, 8]])\n",
    "\n",
    "print(A @ B)\n"
   ]
  },
  {
   "cell_type": "markdown",
   "metadata": {},
   "source": [
    "## NumPy Broadcasting Rules\n",
    "\n",
    "**Broadcasting** is NumPy's powerful mechanism for performing operations on arrays of different shapes. Instead of requiring arrays to have identical dimensions, NumPy automatically \"broadcasts\" smaller arrays to match larger ones.\n",
    "\n",
    "### Example 1: Adding a 1D array to a 2D matrix\n",
    "This cell shows `A` (shape 2×2) + `b` (shape 2):\n",
    "- `A` is `[[1,2], [3,4]]` (2×2 matrix)\n",
    "- `b` is `[1, 2]` (1D array with 2 elements)\n",
    "- NumPy broadcasts `b` to each row of `A`\n",
    "- Equivalent to: `[[1,2], [3,4]] + [[1,2], [1,2]]`\n",
    "- Result: `[[2,4], [4,6]]`\n",
    "\n",
    "**Broadcasting rule applied**: The 1D array `b` is replicated along the missing dimension (rows) to match the 2D matrix shape."
   ]
  },
  {
   "cell_type": "code",
   "execution_count": 49,
   "metadata": {},
   "outputs": [
    {
     "name": "stdout",
     "output_type": "stream",
     "text": [
      "[[2 4]\n",
      " [4 6]]\n"
     ]
    }
   ],
   "source": [
    "A = np.array([[1, 2],\n",
    "              [3, 4]])\n",
    "b = np.array([1, 2])\n",
    "print(A + b)"
   ]
  },
  {
   "cell_type": "markdown",
   "metadata": {},
   "source": [
    "### Example 2: Broadcasting with different dimension combinations\n",
    "This cell shows `A` (shape 3×1) + `b` (shape 3):\n",
    "- `A` is `[[1], [2], [3]]` (3×1 column vector)\n",
    "- `b` is `[10, 20, 30]` (1×3 row vector)\n",
    "- NumPy broadcasts both arrays to shape 3×3:\n",
    "  - `A` is replicated horizontally across columns\n",
    "  - `b` is replicated vertically down rows\n",
    "- Equivalent to: `[[1,1,1], [2,2,2], [3,3,3]] + [[10,20,30], [10,20,30], [10,20,30]]`\n",
    "- Result: `[[11,21,31], [12,22,32], [13,23,33]]`\n",
    "\n",
    "**Key Broadcasting Rules**:\n",
    "1. Arrays with fewer dimensions are padded with 1s on the left\n",
    "2. Dimensions of size 1 are stretched to match the other array\n",
    "3. If dimensions don't match and neither is 1, an error occurs\n",
    "\n",
    "Broadcasting makes code more efficient and readable by eliminating the need for explicit loops or array replication."
   ]
  },
  {
   "cell_type": "code",
   "execution_count": 50,
   "metadata": {},
   "outputs": [
    {
     "name": "stdout",
     "output_type": "stream",
     "text": [
      "[[11 21 31]\n",
      " [12 22 32]\n",
      " [13 23 33]]\n"
     ]
    }
   ],
   "source": [
    "A = np.array([[1],\n",
    "              [2],\n",
    "              [3]])\n",
    "b = np.array([10, 20, 30])\n",
    "print(A + b)"
   ]
  }
 ],
 "metadata": {
  "colab": {
   "provenance": []
  },
  "kernelspec": {
   "display_name": "Python 3",
   "language": "python",
   "name": "python3"
  },
  "language_info": {
   "codemirror_mode": {
    "name": "ipython",
    "version": 3
   },
   "file_extension": ".py",
   "mimetype": "text/x-python",
   "name": "python",
   "nbconvert_exporter": "python",
   "pygments_lexer": "ipython3",
   "version": "3.10.19"
  }
 },
 "nbformat": 4,
 "nbformat_minor": 4
}
