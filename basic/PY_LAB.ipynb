{
 "cells": [
  {
   "cell_type": "markdown",
   "metadata": {},
   "source": [
    "# Python Lab"
   ]
  },
  {
   "cell_type": "markdown",
   "metadata": {},
   "source": [
    "## Basic Arithmetic Operations\n",
    "This cell demonstrates basic addition of two integers."
   ]
  },
  {
   "cell_type": "markdown",
   "metadata": {},
   "source": [
    "## Integer Interning in Python\n",
    "\n",
    "Python uses **integer interning** (also called integer caching) as a memory optimization technique. For small integers in the range of -5 to 256, Python pre-creates and reuses the same integer objects rather than creating new ones each time.\n",
    "\n",
    "This means when you assign the same small integer value to different variables, they actually reference the same object in memory, which is why `id(a)` and `id(b)` return identical memory addresses.\n",
    "\n",
    "This optimization:\n",
    "\n",
    "- Reduces memory usage\n",
    "- Improves performance for frequently used small integers\n",
    "- Is completely transparent to the programmer"
   ]
  },
  {
   "cell_type": "code",
   "execution_count": 78,
   "metadata": {},
   "outputs": [
    {
     "name": "stdout",
     "output_type": "stream",
     "text": [
      "8\n"
     ]
    }
   ],
   "source": [
    "a = 5\n",
    "b = 3\n",
    "print(a + b)"
   ]
  },
  {
   "cell_type": "code",
   "execution_count": 79,
   "metadata": {},
   "outputs": [
    {
     "name": "stdout",
     "output_type": "stream",
     "text": [
      "4341137776 4341137776\n"
     ]
    }
   ],
   "source": [
    "a = 5\n",
    "b = 5\n",
    "print(id(a), id(b))"
   ]
  },
  {
   "cell_type": "markdown",
   "metadata": {},
   "source": [
    "## List Identity vs Equality\n",
    "\n",
    "This cell demonstrates the difference between identity (`is`) and equality (`==`) with lists. Unlike small integers, lists are **not** interned in Python. Even when two lists have identical contents, they are separate objects in memory with different `id()` values. The `==` operator checks if values are equal, while `is` checks if they are the same object."
   ]
  },
  {
   "cell_type": "code",
   "execution_count": 80,
   "metadata": {},
   "outputs": [
    {
     "name": "stdout",
     "output_type": "stream",
     "text": [
      "4597218432 4597218496\n",
      "True\n",
      "False\n"
     ]
    }
   ],
   "source": [
    "a = [1, 2, 3]\n",
    "b = [1, 2, 3]\n",
    "print(id(a), id(b))\n",
    "print(a == b)\n",
    "print(a is b)"
   ]
  },
  {
   "cell_type": "markdown",
   "metadata": {},
   "source": [
    "## Mutable Objects in Python\n",
    "\n",
    "Lists are **mutable objects**, meaning their contents can be modified after creation without changing their identity (memory address). This cell demonstrates how using `append()` modifies the list in-place - the `id()` remains the same before and after modification, proving it's the same object with changed contents."
   ]
  },
  {
   "cell_type": "code",
   "execution_count": 81,
   "metadata": {},
   "outputs": [
    {
     "name": "stdout",
     "output_type": "stream",
     "text": [
      "Before append:\n",
      "b = [1, 2, 3]\n",
      "id(b) = 4597218240\n",
      "\n",
      "After append:\n",
      "b = [1, 2, 3, 4]\n",
      "id(b) = 4597218240\n"
     ]
    }
   ],
   "source": [
    "b = [1, 2, 3]\n",
    "print(\"Before append:\")\n",
    "print(\"b =\", b)\n",
    "print(\"id(b) =\", id(b))\n",
    "\n",
    "b.append(4)\n",
    "print(\"\\nAfter append:\")\n",
    "print(\"b =\", b)\n",
    "print(\"id(b) =\", id(b))"
   ]
  },
  {
   "cell_type": "markdown",
   "metadata": {},
   "source": [
    "## Copying Lists\n",
    "\n",
    "This cell demonstrates different ways to create copies of lists in Python."
   ]
  },
  {
   "cell_type": "code",
   "execution_count": null,
   "metadata": {},
   "outputs": [],
   "source": "# Method 1: Using slicing\na = [1, 2, 3]\nb = a[:]   # Create a shallow copy\nb.append(4)\nprint(a, b)\n\n# Method 2: Using list()\na = [1, 2, 3]\nb = list(a)\nb.append(4)\nprint(a, b)\n\n# Method 3: Using copy library\nimport copy\na = [1, 2, [10, 20]]\nb = copy.deepcopy(a)  # Create a deep copy\nb[2].append(30)\nprint(a, b)"
  },
  {
   "cell_type": "markdown",
   "metadata": {},
   "source": [
    "## Visualizing the Difference: Shallow vs Deep Copy\n",
    "\n",
    "This example clearly demonstrates the behavior difference between `copy.copy()` (shallow) and `copy.deepcopy()` (deep):\n",
    "\n",
    "- Variable `a`: Original list with a nested list `[2, 3]`\n",
    "- Variable `b`: Shallow copy - creates a new outer list, but shares the nested list with `a`\n",
    "  - When we do `b[1].append(4)`, it modifies the shared nested list\n",
    "  - Both `a` and `b` show `[2, 3, 4]` because they point to the same nested list object\n",
    "- Variable `c`: Deep copy - creates completely independent copies at all levels\n",
    "  - When we do `c[1].append(5)`, it only modifies `c`'s own nested list\n",
    "  - `a` and `b` are unaffected\n",
    "\n",
    "Result: This proves shallow copy shares nested objects while deep copy creates truly independent copies."
   ]
  },
  {
   "cell_type": "code",
   "execution_count": 83,
   "metadata": {},
   "outputs": [
    {
     "name": "stdout",
     "output_type": "stream",
     "text": [
      "a: [1, [2, 3, 4]]\n",
      "b: [1, [2, 3, 4]]\n",
      "c: [1, [2, 3, 5]]\n"
     ]
    }
   ],
   "source": [
    "import copy\n",
    "\n",
    "a = [1, [2, 3]]\n",
    "b = copy.copy(a)      # shallow copy\n",
    "c = copy.deepcopy(a)  # deep copy\n",
    "\n",
    "b[1].append(4)\n",
    "c[1].append(5)\n",
    "\n",
    "print(\"a:\", a)\n",
    "print(\"b:\", b)\n",
    "print(\"c:\", c)"
   ]
  },
  {
   "cell_type": "markdown",
   "metadata": {},
   "source": [
    "# Data Structures in Python - Lists\n",
    "\n",
    "Python's list is one of the most versatile **data structures**. Lists are:\n",
    "\n",
    "- Ordered: Elements maintain their position\n",
    "- Mutable: Can be modified after creation\n",
    "- Dynamic: Can grow or shrink in size\n",
    "- Heterogeneous: Can contain different data types\n",
    "\n",
    "This cell demonstrates fundamental list operations: indexing to access elements and `append()` to add elements."
   ]
  },
  {
   "cell_type": "code",
   "execution_count": 84,
   "metadata": {},
   "outputs": [
    {
     "name": "stdout",
     "output_type": "stream",
     "text": [
      "10\n",
      "[10, 20, 30, 40]\n"
     ]
    }
   ],
   "source": [
    "nums = [10, 20, 30]\n",
    "print(nums[0])\n",
    "nums.append(40)\n",
    "print(nums)"
   ]
  },
  {
   "cell_type": "markdown",
   "metadata": {},
   "source": [
    "List can have different data type elements"
   ]
  },
  {
   "cell_type": "code",
   "execution_count": 85,
   "metadata": {},
   "outputs": [],
   "source": [
    "nums = [10, \"AI\", [1, 2, 3], True]"
   ]
  },
  {
   "cell_type": "code",
   "execution_count": 86,
   "metadata": {},
   "outputs": [
    {
     "name": "stdout",
     "output_type": "stream",
     "text": [
      "2\n",
      "4\n",
      "6\n",
      "8\n"
     ]
    }
   ],
   "source": [
    "nums = [1, 2, 3, 4]\n",
    "for x in nums:\n",
    "    print(x * 2)"
   ]
  },
  {
   "cell_type": "markdown",
   "metadata": {},
   "source": [
    "Another **list comprehension**"
   ]
  },
  {
   "cell_type": "code",
   "execution_count": 87,
   "metadata": {},
   "outputs": [
    {
     "name": "stdout",
     "output_type": "stream",
     "text": [
      "[2, 4, 6, 8]\n"
     ]
    }
   ],
   "source": [
    "nums = [1, 2, 3, 4]\n",
    "doubles = [x * 2 for x in nums]\n",
    "print(doubles)"
   ]
  },
  {
   "cell_type": "code",
   "execution_count": 88,
   "metadata": {},
   "outputs": [
    {
     "name": "stdout",
     "output_type": "stream",
     "text": [
      "[1, 2, 3, 4, 5, 6, 7, 8, 9]\n"
     ]
    }
   ],
   "source": [
    "matrix = [[1, 2, 3],\n",
    "          [4, 5, 6],\n",
    "          [7, 8, 9]]\n",
    "\n",
    "flattened = [x for row in matrix for x in row]\n",
    "print(flattened)"
   ]
  },
  {
   "cell_type": "markdown",
   "metadata": {},
   "source": [
    "Create an array *nums* contains element from 1 to 10. And create another array *squares* based on *num* with square operator if element is even:"
   ]
  },
  {
   "cell_type": "code",
   "execution_count": 89,
   "metadata": {},
   "outputs": [
    {
     "name": "stdout",
     "output_type": "stream",
     "text": [
      "[4, 16, 36, 64]\n"
     ]
    }
   ],
   "source": [
    "nums = list(range(1,10))\n",
    "squares = [n**2 for n in nums if n % 2 == 0]\n",
    "print(squares)"
   ]
  },
  {
   "cell_type": "markdown",
   "metadata": {},
   "source": [
    "## Note: The `range()` Function and Lazy Evaluation\n",
    "\n",
    "The `range()` function creates an iterable that generates numbers on-demand using **lazy evaluation**:\n",
    "\n",
    "- Lazy Evaluation: Values are generated only when needed, not all at once\n",
    "- Memory Efficient: `range(1000000)` doesn't create a list of 1 million numbers in memory\n",
    "- Iterable: Can be used in loops, converted to lists with `list()`, or consumed by other functions\n",
    "- Immutable: The range object itself cannot be modified\n",
    "\n",
    "Example: `range(1, 10)` creates an iterable that will produce numbers 1 through 9 when iterated over, but the numbers aren't generated until you actually use them (like in a loop or when converting to a list with `list(range(1, 10))`).\n",
    "\n",
    "This is a key performance optimization in Python, especially when working with large sequences."
   ]
  },
  {
   "cell_type": "markdown",
   "metadata": {},
   "source": [
    "# NumPy"
   ]
  },
  {
   "cell_type": "markdown",
   "metadata": {},
   "source": [
    "## Introduction to NumPy Arrays\n",
    "\n",
    "**NumPy** (Numerical Python) is a fundamental library for scientific computing in Python. This cell demonstrates creating a NumPy array using `np.array()`:\n",
    "\n",
    "- NumPy arrays are more efficient than Python lists for numerical operations\n",
    "- The type `numpy.ndarray` (n-dimensional array) is the core data structure\n",
    "- Arrays are homogeneous - all elements must be the same type\n",
    "- Ideal for mathematical and scientific computations"
   ]
  },
  {
   "cell_type": "code",
   "execution_count": 90,
   "metadata": {},
   "outputs": [
    {
     "name": "stdout",
     "output_type": "stream",
     "text": [
      "[1 2 3 4 5]\n",
      "<class 'numpy.ndarray'>\n"
     ]
    }
   ],
   "source": [
    "import numpy as np\n",
    "\n",
    "arr = np.array([1, 2, 3, 4, 5])\n",
    "print(arr)\n",
    "print(type(arr))"
   ]
  },
  {
   "cell_type": "markdown",
   "metadata": {},
   "source": [
    "## Vectorized Operations in NumPy\n",
    "\n",
    "This demonstrates **vectorization** - one of NumPy's most powerful features:\n",
    "\n",
    "- Operations are applied to entire arrays at once, not element-by-element\n",
    "- `arr + 10` adds 10 to every element without needing a loop\n",
    "- Much faster than iterating through Python lists\n",
    "- Makes code cleaner and more readable\n",
    "- NumPy operations are implemented in C, providing significant performance gains"
   ]
  },
  {
   "cell_type": "code",
   "execution_count": 91,
   "metadata": {},
   "outputs": [
    {
     "name": "stdout",
     "output_type": "stream",
     "text": [
      "[11 12 13 14 15]\n"
     ]
    }
   ],
   "source": [
    "arr = np.array([1, 2, 3, 4, 5])\n",
    "print(arr + 10)"
   ]
  },
  {
   "cell_type": "code",
   "execution_count": 92,
   "metadata": {},
   "outputs": [
    {
     "name": "stdout",
     "output_type": "stream",
     "text": [
      "[5 7 9]\n",
      "[ 4 10 18]\n",
      "32\n"
     ]
    }
   ],
   "source": [
    "a = np.array([1, 2, 3])\n",
    "b = np.array([4, 5, 6])\n",
    "\n",
    "print(a + b)\n",
    "print(a * b)\n",
    "print(np.dot(a, b))"
   ]
  },
  {
   "cell_type": "markdown",
   "metadata": {},
   "source": [
    "## Matrix Multiplication: `@` Operator vs Element-wise Operations\n",
    "\n",
    "This cell demonstrates the `@` operator for **matrix multiplication**, which is fundamentally different from element-wise operations:\n",
    "\n",
    "### The `@` Operator - Matrix Multiplication\n",
    "\n",
    "- Performs linear algebra matrix multiplication (dot product)\n",
    "- Each element in the result is the sum of products of corresponding row and column elements\n",
    "- Formula: `(A @ B)[i,j] = sum of (A[i,k] * B[k,j])` for all k\n",
    "- Calculation example from this cell:\n",
    "\n",
    "  - `Result[0,0] = (1×5) + (2×7) = 5 + 14 = 19`\n",
    "  - `Result[0,1] = (1×6) + (2×8) = 6 + 16 = 22`\n",
    "  - `Result[1,0] = (3×5) + (4×7) = 15 + 28 = 43`\n",
    "  - `Result[1,1] = (3×6) + (4×8) = 18 + 32 = 50`\n",
    "\n",
    "### Element-wise Operations (`*`, `+`, `-`, `/`)\n",
    "\n",
    "- `A * B` multiplies corresponding elements: `Result[i,j] = A[i,j] * B[i,j]`\n",
    "- Simple position-by-position operation, no cross-element computation\n",
    "\n",
    "Example: \n",
    "\n",
    "`[[1,2],[3,4]] * [[5,6],[7,8]] = [[1*5, 2*6],[3*7, 4*8]] = [[5,12],[21,32]]`\n",
    "\n",
    "\n",
    "Key Difference: `@` combines multiple elements (row × column), while `*` operates on single pairs of elements."
   ]
  },
  {
   "cell_type": "code",
   "execution_count": 93,
   "metadata": {},
   "outputs": [
    {
     "name": "stdout",
     "output_type": "stream",
     "text": [
      "[[19 22]\n",
      " [43 50]]\n"
     ]
    }
   ],
   "source": [
    "A = np.array([[1, 2],\n",
    "              [3, 4]])\n",
    "\n",
    "B = np.array([[5, 6],\n",
    "              [7, 8]])\n",
    "\n",
    "print(A @ B)\n"
   ]
  },
  {
   "cell_type": "markdown",
   "metadata": {},
   "source": [
    "## NumPy Broadcasting Rules\n",
    "\n",
    "**Broadcasting** is NumPy's powerful mechanism for performing operations on arrays of different shapes. Instead of requiring arrays to have identical dimensions, NumPy automatically \"broadcasts\" smaller arrays to match larger ones.\n",
    "\n",
    "### Example 1: Adding a 1D array to a 2D matrix\n",
    "\n",
    "This cell shows `A` (shape 2×2) + `b` (shape 2):\n",
    "\n",
    "- `A` is `[[1,2], [3,4]]` (2×2 matrix)\n",
    "- `b` is `[1, 2]` (1D array with 2 elements)\n",
    "- NumPy broadcasts `b` to each row of `A`\n",
    "- Equivalent to: `[[1,2], [3,4]] + [[1,2], [1,2]]`\n",
    "- Result: `[[2,4], [4,6]]`\n",
    "\n",
    "Broadcasting rule applied: The 1D array `b` is replicated along the missing dimension (rows) to match the 2D matrix shape."
   ]
  },
  {
   "cell_type": "code",
   "execution_count": 94,
   "metadata": {},
   "outputs": [
    {
     "name": "stdout",
     "output_type": "stream",
     "text": [
      "[[2 4]\n",
      " [4 6]]\n"
     ]
    }
   ],
   "source": [
    "A = np.array([[1, 2],\n",
    "              [3, 4]])\n",
    "b = np.array([1, 2])\n",
    "print(A + b)"
   ]
  },
  {
   "cell_type": "markdown",
   "metadata": {},
   "source": [
    "### Example 2: Broadcasting with different dimension combinations\n",
    "\n",
    "This cell shows `A` (shape 3×1) + `b` (shape 3):\n",
    "\n",
    "- `A` is `[[1], [2], [3]]` (3×1 column vector)\n",
    "- `b` is `[10, 20, 30]` (1×3 row vector)\n",
    "- NumPy broadcasts both arrays to shape 3×3:\n",
    "  - `A` is replicated horizontally across columns\n",
    "  - `b` is replicated vertically down rows\n",
    "- Equivalent to: `[[1,1,1], [2,2,2], [3,3,3]] + [[10,20,30], [10,20,30], [10,20,30]]`\n",
    "- Result: `[[11,21,31], [12,22,32], [13,23,33]]`\n",
    "\n",
    "Key Broadcasting Rules:\n",
    "\n",
    "1. Arrays with fewer dimensions are padded with 1s on the left\n",
    "2. Dimensions of size 1 are stretched to match the other array\n",
    "3. If dimensions don't match and neither is 1, an error occurs\n",
    "\n",
    "Broadcasting makes code more efficient and readable by eliminating the need for explicit loops or array replication."
   ]
  },
  {
   "cell_type": "code",
   "execution_count": 95,
   "metadata": {},
   "outputs": [
    {
     "name": "stdout",
     "output_type": "stream",
     "text": [
      "[[11 21 31]\n",
      " [12 22 32]\n",
      " [13 23 33]]\n"
     ]
    }
   ],
   "source": [
    "A = np.array([[1],\n",
    "              [2],\n",
    "              [3]])\n",
    "b = np.array([10, 20, 30])\n",
    "print(A + b)"
   ]
  },
  {
   "cell_type": "markdown",
   "metadata": {},
   "source": [
    "## Matrix Multiplication with Different Shapes\n",
    "\n",
    "This cell demonstrates matrix multiplication with non-square matrices and how to determine the resulting shape:\n",
    "\n",
    "### Matrix Dimensions and Multiplication Rules\n",
    "\n",
    "- Matrix A: shape (2, 3) - 2 rows, 3 columns\n",
    "- Matrix B: shape (3, 2) - 3 rows, 2 columns\n",
    "- Result C = A @ B: shape (2, 2) - 2 rows, 2 columns\n",
    "\n",
    "### Key Rule for Matrix Multiplication\n",
    "\n",
    "For `A @ B` to be valid:\n",
    "\n",
    "- Number of columns in A must equal number of rows in B\n",
    "- In this case: A has 3 columns, B has 3 rows ✓ Valid\n",
    "- Resulting shape: (A's rows, B's columns) = (2, 2)\n",
    "\n",
    "### Calculation Example\n",
    "\n",
    "- `C[0,0] = (1×1) + (2×3) + (3×5) = 1 + 6 + 15 = 22`\n",
    "- `C[0,1] = (1×2) + (2×4) + (3×6) = 2 + 8 + 18 = 28`\n",
    "- `C[1,0] = (4×1) + (5×3) + (6×5) = 4 + 15 + 30 = 49`\n",
    "- `C[1,1] = (4×2) + (5×4) + (6×6) = 8 + 20 + 36 = 64`\n",
    "\n",
    "The `.shape` attribute shows the dimensions of the resulting array."
   ]
  },
  {
   "cell_type": "code",
   "execution_count": 96,
   "metadata": {},
   "outputs": [
    {
     "name": "stdout",
     "output_type": "stream",
     "text": [
      "[[22 28]\n",
      " [49 64]]\n",
      "(2, 2)\n"
     ]
    }
   ],
   "source": [
    "import numpy as np\n",
    "\n",
    "A = np.array([[1, 2, 3],\n",
    "              [4, 5, 6]])\n",
    "\n",
    "B = np.array([[1, 2],\n",
    "              [3, 4],\n",
    "              [5, 6]])\n",
    "\n",
    "C = A @ B\n",
    "print(C)\n",
    "print(C.shape)"
   ]
  },
  {
   "cell_type": "markdown",
   "metadata": {},
   "source": [
    "## Matrix Inverse\n",
    "\n",
    "This cell demonstrates computing the **inverse matrix** using `np.linalg.inv()`:\n",
    "\n",
    "### What is a Matrix Inverse?\n",
    "The inverse of matrix A (denoted A⁻¹) is a matrix that, when multiplied with A, produces the **identity matrix** (I):\n",
    "\n",
    "- **Property**: A @ A⁻¹ = I (identity matrix)\n",
    "- **Identity matrix**: A matrix with 1s on the diagonal and 0s elsewhere\n",
    "\n",
    "### Example from this cell\n",
    "\n",
    "- Original matrix A: `[[1, 2], [3, 4]]`\n",
    "- Inverse matrix A⁻¹: `[[-2.0, 1.0], [1.5, -0.5]]`\n",
    "- Verification A @ A⁻¹: Results in `[[1, 0], [0, 1]]` (identity matrix)\n",
    "\n",
    "### Important Notes\n",
    "\n",
    "- Only square matrices can have an inverse (same number of rows and columns)\n",
    "- Not all square matrices are invertible - the determinant must be non-zero\n",
    "- Floating-point precision: Notice `8.88e-16` instead of exact `0` - this is due to floating-point arithmetic limitations\n",
    "- Applications: Solving systems of linear equations, transformations in computer graphics, etc.\n",
    "\n",
    "The tiny value `8.88e-16` is essentially zero (within numerical precision), confirming that A @ A⁻¹ = I."
   ]
  },
  {
   "cell_type": "code",
   "execution_count": 97,
   "metadata": {},
   "outputs": [
    {
     "name": "stdout",
     "output_type": "stream",
     "text": [
      "[[-2.   1. ]\n",
      " [ 1.5 -0.5]]\n",
      "[[1.0000000e+00 0.0000000e+00]\n",
      " [8.8817842e-16 1.0000000e+00]]\n"
     ]
    }
   ],
   "source": [
    "A = np.array([[1, 2],\n",
    "              [3, 4]])\n",
    "\n",
    "invA = np.linalg.inv(A)\n",
    "print(invA)\n",
    "print(A @ invA)"
   ]
  },
  {
   "cell_type": "markdown",
   "metadata": {},
   "source": [
    "## Solving Linear Systems: `np.linalg.solve()`\n",
    "\n",
    "This cell demonstrates solving a **system of linear equations** using `np.linalg.solve()`, which is the most efficient and accurate method.\n",
    "\n",
    "### The Problem: Ax = b\n",
    "We need to find the unknown vector **x** that satisfies **Ax = b**, where:\n",
    "\n",
    "- A = coefficient matrix `[[3, 1], [1, 2]]`\n",
    "- b = result vector `[9, 8]`\n",
    "- x = unknown values we're solving for `[x, y]`\n",
    "\n",
    "### What This Represents\n",
    "This solves the system of equations:\n",
    "\n",
    "- Equation 1: 3x + 1y = 9\n",
    "- Equation 2: 1x + 2y = 8\n",
    "\n",
    "### Why Use `solve()` Instead of Matrix Inverse?\n",
    "\n",
    "While mathematically x = A⁻¹ @ b, using `np.linalg.solve(A, b)` is superior:\n",
    "\n",
    "1. Computationally efficient: Doesn't actually compute the inverse\n",
    "2. Numerically stable: Uses LU decomposition internally\n",
    "3. More accurate: Avoids accumulation of floating-point errors\n",
    "4. Better for large systems: Scales better for bigger matrices\n",
    "\n",
    "### Verification of Result\n",
    "\n",
    "The solution `[2. 3.]` means x=2, y=3. We can verify:\n",
    "\n",
    "- 3(2) + 1(3) = 6 + 3 = 9 ✓\n",
    "- 1(2) + 2(3) = 2 + 6 = 8 ✓"
   ]
  },
  {
   "cell_type": "code",
   "execution_count": 98,
   "metadata": {},
   "outputs": [
    {
     "name": "stdout",
     "output_type": "stream",
     "text": [
      "[2. 3.]\n"
     ]
    }
   ],
   "source": [
    "import numpy as np\n",
    "\n",
    "A = np.array([[3, 1],\n",
    "              [1, 2]])\n",
    "\n",
    "b = np.array([9, 8])\n",
    "\n",
    "x = np.linalg.solve(A, b)\n",
    "print(x)"
   ]
  },
  {
   "cell_type": "markdown",
   "metadata": {},
   "source": [
    "## Important Note: Singular Matrices\n",
    "\n",
    "### What Happens When det(A) = 0?\n",
    "\n",
    "If the determinant of matrix A is zero, `np.linalg.solve()` will raise a **LinAlgError: Singular matrix** error.\n",
    "\n",
    "### Why Does This Happen?\n",
    "\n",
    "A **singular matrix** (determinant = 0) means:\n",
    "\n",
    "- The matrix is **not invertible** (has no inverse)\n",
    "- The system of equations has either:\n",
    "  - No solution (equations are inconsistent)\n",
    "  - Infinitely many solutions (equations are dependent/redundant)\n",
    "\n",
    "### Example of a Singular Matrix\n",
    "\n",
    "```python\n",
    "A_singular = np.array([[2, 4],\n",
    "                       [1, 2]])  # Second row is first row × 0.5\n",
    "b = np.array([6, 3])\n",
    "\n",
    "# This will raise: LinAlgError: Singular matrix\n",
    "# x = np.linalg.solve(A_singular, b)\n",
    "```\n",
    "\n",
    "The equations 2x + 4y = 6 and 1x + 2y = 3 are actually the same equation (the second is just the first divided by 2), so there are infinitely many solutions.\n",
    "\n",
    "### How to Check Before Solving\n",
    "\n",
    "Always check if det(A) ≠ 0 before using `solve()`:\n",
    "\n",
    "```python\n",
    "det_A = np.linalg.det(A)\n",
    "if abs(det_A) < 1e-10:  # Close to zero\n",
    "    print(\"Warning: Matrix is singular or nearly singular\")\n",
    "else:\n",
    "    x = np.linalg.solve(A, b)\n",
    "```"
   ]
  },
  {
   "cell_type": "markdown",
   "metadata": {},
   "source": [
    "# Regression Sample"
   ]
  },
  {
   "cell_type": "markdown",
   "metadata": {},
   "source": [
    "## Generating Sample Data for Linear Regression\n",
    "\n",
    "This cell creates synthetic data for demonstrating linear regression, simulating a real-world scenario where observations have noise.\n",
    "\n",
    "### The Data Generation Process\n",
    "\n",
    "1. Random Number Generator: `np.random.default_rng(42)`\n",
    "   - Creates a random number generator with seed 42\n",
    "   - Using a fixed seed ensures **reproducibility** - same results every time\n",
    "\n",
    "2. Sample Size: `n = 50`\n",
    "   - We generate 50 data points\n",
    "\n",
    "3. Independent Variable (x): `rng.uniform(-3, 3, size=n)`\n",
    "   - Generates 50 random values uniformly distributed between -3 and 3\n",
    "   - These are our input/predictor values\n",
    "\n",
    "4. Random Noise: `rng.normal(0, 0.8, size=n)`\n",
    "   - Generates 50 random values from a normal (Gaussian) distribution\n",
    "   - Mean = 0, Standard deviation = 0.8\n",
    "   - Simulates measurement errors or natural variability in real data\n",
    "\n",
    "5. Dependent Variable (y): `y = 3*x + 2 + noise`\n",
    "   - True relationship: y = 3x + 2 (slope=3, intercept=2)\n",
    "   - We add noise to make it realistic\n",
    "   - In regression, we'll try to recover these true parameters from the noisy data\n",
    "\n",
    "This synthetic dataset mimics real-world scenarios where we observe data with inherent noise and want to find the underlying linear relationship."
   ]
  },
  {
   "cell_type": "code",
   "execution_count": 99,
   "metadata": {},
   "outputs": [],
   "source": [
    "import numpy as np\n",
    "rng = np.random.default_rng(42)\n",
    "n = 50\n",
    "x = rng.uniform(-3, 3, size=n)\n",
    "noise = rng.normal(0, 0.8, size=n)\n",
    "y = 3*x + 2 + noise"
   ]
  },
  {
   "cell_type": "markdown",
   "metadata": {},
   "source": [
    "## Inspecting the Generated Data\n",
    "\n",
    "Let's examine the data we created and visualize the relationship between x and y to see how the noise affects the linear pattern."
   ]
  },
  {
   "cell_type": "code",
   "execution_count": 100,
   "metadata": {},
   "outputs": [
    {
     "name": "stdout",
     "output_type": "stream",
     "text": [
      "Number of samples: 50\n",
      "x range: [-2.74, 2.85]\n",
      "y range: [-6.47, 10.46]\n",
      "\n",
      "First 5 samples:\n",
      "x: [ 1.64373629 -0.36672936  2.15158752  1.18420817 -2.43493591]\n",
      "y: [ 7.47433972  0.95387517  8.68605808  6.0576551  -6.47053239]\n"
     ]
    },
    {
     "data": {
      "image/png": "[encoded data removed]",
      "text/plain": [
       "<Figure size 1000x600 with 1 Axes>"
      ]
     },
     "metadata": {},
     "output_type": "display_data"
    }
   ],
   "source": [
    "# Install matplotlib if not available\n",
    "import sys\n",
    "import subprocess\n",
    "try:\n",
    "    import matplotlib.pyplot as plt\n",
    "except ModuleNotFoundError:\n",
    "    print(\"Installing matplotlib...\")\n",
    "    subprocess.check_call([sys.executable, \"-m\", \"pip\", \"install\", \"matplotlib\"])\n",
    "    import matplotlib.pyplot as plt\n",
    "\n",
    "# Display basic statistics\n",
    "print(f\"Number of samples: {n}\")\n",
    "print(f\"x range: [{x.min():.2f}, {x.max():.2f}]\")\n",
    "print(f\"y range: [{y.min():.2f}, {y.max():.2f}]\")\n",
    "print(f\"\\nFirst 5 samples:\")\n",
    "print(f\"x: {x[:5]}\")\n",
    "print(f\"y: {y[:5]}\")\n",
    "\n",
    "# Visualize the data\n",
    "plt.figure(figsize=(10, 6))\n",
    "plt.scatter(x, y, alpha=0.6, label='Noisy data')\n",
    "plt.plot(x, 3*x + 2, 'r--', label='True line: y = 3x + 2', linewidth=2)\n",
    "plt.xlabel('x')\n",
    "plt.ylabel('y')\n",
    "plt.title('Linear Regression Sample Data')\n",
    "plt.legend()\n",
    "plt.grid(True, alpha=0.3)\n",
    "plt.show()"
   ]
  },
  {
   "cell_type": "markdown",
   "metadata": {},
   "source": [
    "## Linear Regression Using Least Squares Method\n",
    "\n",
    "This cell implements **linear regression** from scratch using the **least squares** formula to find the best-fit line for our noisy data.\n",
    "\n",
    "### The Goal\n",
    "Find the line **y = mx + b** that best fits our data by minimizing the sum of squared errors between predicted and actual y values.\n",
    "\n",
    "### The Mathematics\n",
    "\n",
    "For linear regression with intercept, we use matrix form:\n",
    "\n",
    "- Design matrix X: Each row is `[1, x_i]` where the 1 is for the intercept term\n",
    "- Parameters w: `[b, m]` where b is intercept, m is slope\n",
    "- **Least squares formula**: `w = (X^T X)^(-1) X^T y`\n",
    "\n",
    "### Step-by-Step Process\n",
    "\n",
    "1. Build design matrix X: `np.c_[np.ones_like(x), x]`\n",
    "   - Column 1: All ones (for intercept b)\n",
    "   - Column 2: The x values (for slope m)\n",
    "   - Shape: (n, 2)\n",
    "\n",
    "2. Compute X^T X: Matrix multiplication of transpose of X with X\n",
    "\n",
    "3. Compute inverse: `(X^T X)^(-1)` \n",
    "\n",
    "4. Compute X^T y: Transpose of X multiplied by y vector\n",
    "\n",
    "5. Final solution: `w = (X^T X)^(-1) X^T y`\n",
    "\n",
    "### Why This Works\n",
    "\n",
    "The least squares method finds parameters that minimize the **sum of squared residuals** (errors). This is the optimal solution when errors follow a normal distribution.\n",
    "\n",
    "### Expected Result\n",
    "\n",
    "Since we generated data with y = 3x + 2 + noise, we expect:\n",
    "\n",
    "- Slope (m) ≈ 3\n",
    "- Intercept (b) ≈ 2\n",
    "\n",
    "The values won't be exact due to the random noise we added."
   ]
  },
  {
   "cell_type": "code",
   "execution_count": null,
   "metadata": {},
   "outputs": [],
   "source": "# Assuming we already have x, y from previous step\nimport numpy as np\n\n# X is a matrix with 2 columns:\n#   - column 1: all 1s (for intercept b)\n#   - column 2: x values\nX = np.c_[np.ones_like(x), x]   # shape (n, 2)\n\n# Least squares formula:\n# w = (X^T X)^(-1) X^T y\nXtX = X.T @ X\nXtX_inv = np.linalg.inv(XtX)\nXtY = X.T @ y\nw = XtX_inv @ XtY\n\nb, m = w\nprint(\"b (intercept) =\", b)\nprint(\"m (slope)     =\", m)"
  },
  {
   "cell_type": "code",
   "execution_count": null,
   "metadata": {},
   "outputs": [],
   "source": "import matplotlib.pyplot as plt\nimport numpy as np\n\n# Assuming we still have x, y, b, m from previous section\n\nplt.figure(figsize=(7,5))\n\n# Plot the actual data points (x, y)\nplt.scatter(x, y, color='blue', label='Actual data')\n\n# Create 100 smooth x points to draw the regression line\nx_line = np.linspace(min(x), max(x), 100)\ny_line = m * x_line + b\n\n# Draw the regression line\nplt.plot(x_line, y_line, color='red', label=f'y = {m:.2f}x + {b:.2f}')\n\nplt.xlabel(\"x\")\nplt.ylabel(\"y\")\nplt.title(\"Linear Regression: Data and Fitted Line\")\nplt.legend()\nplt.grid(True)\nplt.show()"
  },
  {
   "cell_type": "markdown",
   "metadata": {},
   "source": [
    "## Evaluating Model Performance: Error Metrics\n",
    "\n",
    "This cell calculates error metrics to evaluate how well our linear regression model fits the data.\n",
    "\n",
    "### Predictions\n",
    "\n",
    "- **y_hat**: Predicted values using our model `y_hat = mx + b`\n",
    "- These are what our model predicts for each x value\n",
    "\n",
    "### Error Metrics\n",
    "\n",
    "**1. MAE (Mean Absolute Error)**\n",
    "\n",
    "- Formula: `MAE = mean(|y - y_hat|)`\n",
    "- Takes the average of absolute differences between actual and predicted values\n",
    "- Interpretation: On average, how far off are our predictions?\n",
    "- Advantage: Easy to interpret - same units as y\n",
    "- Use case: When you want to understand typical prediction error\n",
    "\n",
    "**2. RMSE (Root Mean Squared Error)**\n",
    "\n",
    "- Formula: `RMSE = sqrt(mean((y - y_hat)²))`\n",
    "- Takes the square root of the average squared errors\n",
    "- Penalizes large errors more than MAE due to squaring\n",
    "- Advantage: More sensitive to **outliers**\n",
    "- Use case: When large errors are particularly undesirable\n",
    "\n",
    "### Comparison\n",
    "\n",
    "- RMSE ≥ MAE (always true)\n",
    "- If RMSE >> MAE: Model has some large errors (outliers)\n",
    "- If RMSE ≈ MAE: Errors are relatively uniform\n",
    "\n",
    "### Expected Results\n",
    "\n",
    "Since we added noise with std=0.8, we expect errors around that magnitude. Lower values indicate a better fit to the data."
   ]
  },
  {
   "cell_type": "code",
   "execution_count": null,
   "metadata": {},
   "outputs": [],
   "source": "# Predict y values from the model\ny_hat = m * x + b\n\n# Mean Absolute Error\nmae = np.mean(np.abs(y - y_hat))\n\n# Root Mean Squared Error\nrmse = np.sqrt(np.mean((y - y_hat)**2))\n\nprint(\"MAE  =\", mae)\nprint(\"RMSE =\", rmse)"
  },
  {
   "cell_type": "markdown",
   "metadata": {},
   "source": [
    "# Python Functions\n",
    "\n",
    "## Understanding Functions, Call Frames, and Variable Scope\n",
    "\n",
    "Functions are fundamental building blocks in Python that allow us to organize code into reusable pieces. Understanding how functions work internally helps write better, more maintainable code.\n",
    "\n",
    "### What is a Function?\n",
    "\n",
    "A **function** is a named block of code that performs a specific task. It can:\n",
    "\n",
    "- Accept input (parameters)\n",
    "- Perform operations\n",
    "- Return output (return value)\n",
    "\n",
    "### Call Frames and Call Stack\n",
    "\n",
    "When a function is called, Python creates a **call frame** (also called **activation record**) that contains:\n",
    "\n",
    "- **Local variables**: Variables defined within the function\n",
    "- **Parameters**: Function arguments\n",
    "- **Return address**: Where to return after the function completes\n",
    "\n",
    "The **call stack** is a data structure that manages these call frames:\n",
    "\n",
    "- When a function is called, a new frame is **pushed** onto the stack\n",
    "- When a function returns, its frame is **popped** from the stack\n",
    "- The stack follows **Last-In-First-Out (LIFO)** order\n",
    "\n",
    "### Variable Scope\n",
    "\n",
    "Python has different scopes for variables:\n",
    "\n",
    "**1. Local Variables**\n",
    "\n",
    "- Defined inside a function\n",
    "- Only accessible within that function\n",
    "- Created when function is called, destroyed when it returns\n",
    "- Stored in the function's call frame\n",
    "\n",
    "**2. Global Variables**\n",
    "\n",
    "- Defined outside all functions (at module level)\n",
    "- Accessible from anywhere in the module\n",
    "- Exist for the entire program execution\n",
    "- Should be used sparingly to avoid side effects\n",
    "\n",
    "**3. Enclosing Scope (for nested functions)**\n",
    "\n",
    "- Variables from outer function accessible to inner function\n",
    "- Enables closures\n",
    "\n",
    "### Example: How the Call Stack Works\n",
    "\n",
    "```python\n",
    "def add(a, b):      # When called: frame pushed with local vars a, b\n",
    "    result = a + b  # Local variable 'result' created\n",
    "    return result   # Frame popped, returns to caller\n",
    "```\n",
    "\n",
    "**Call stack visualization:**\n",
    "```\n",
    "main() is running\n",
    "  ↓ calls add(3, 5)\n",
    "  Stack: [main_frame, add_frame]  ← add_frame has a=3, b=5, result=8\n",
    "  ↓ add returns\n",
    "  Stack: [main_frame]  ← add_frame removed\n",
    "```\n",
    "\n",
    "This cell demonstrates a simple `add` function to illustrate these concepts."
   ]
  },
  {
   "cell_type": "code",
   "execution_count": 106,
   "metadata": {},
   "outputs": [
    {
     "name": "stdout",
     "output_type": "stream",
     "text": [
      "Global variable value: 100\n",
      "add(3, 5) = 8\n",
      "After function call, global_var = 100\n",
      "\n",
      "Error: name 'result' is not defined\n",
      "'result' is a local variable and doesn't exist outside the function\n"
     ]
    }
   ],
   "source": [
    "# Example: Function with local and global variables\n",
    "\n",
    "# Global variable\n",
    "global_var = 100\n",
    "\n",
    "def add(a, b):\n",
    "    \"\"\"\n",
    "    Adds two numbers and returns the result.\n",
    "    \n",
    "    Parameters:\n",
    "    - a, b: local variables (parameters)\n",
    "    \n",
    "    Returns:\n",
    "    - sum of a and b\n",
    "    \"\"\"\n",
    "    # Local variable\n",
    "    result = a + b\n",
    "    \n",
    "    # Can access global variable (read-only without 'global' keyword)\n",
    "    print(f\"Global variable value: {global_var}\")\n",
    "    \n",
    "    return result\n",
    "\n",
    "# Call the function\n",
    "x = 3\n",
    "y = 5\n",
    "sum_result = add(x, y)\n",
    "\n",
    "print(f\"add({x}, {y}) = {sum_result}\")\n",
    "print(f\"After function call, global_var = {global_var}\")\n",
    "\n",
    "# Demonstrate that local variables don't exist outside the function\n",
    "try:\n",
    "    print(result)  # This will raise NameError\n",
    "except NameError as e:\n",
    "    print(f\"\\nError: {e}\")\n",
    "    print(\"'result' is a local variable and doesn't exist outside the function\")"
   ]
  },
  {
   "cell_type": "markdown",
   "metadata": {},
   "source": [
    "## Understanding UnboundLocalError\n",
    "\n",
    "This cell demonstrates a common error when working with global variables inside functions: **UnboundLocalError**.\n",
    "\n",
    "### What is UnboundLocalError?\n",
    "\n",
    "`UnboundLocalError` occurs when Python detects that a variable is assigned to within a function, making it a **local variable**, but the code tries to read its value before it has been assigned.\n",
    "\n",
    "### Why Does This Happen?\n",
    "\n",
    "Python's variable resolution follows these rules:\n",
    "\n",
    "1. When Python sees an **assignment** to a variable anywhere in a function (like `count = count + 1`), it treats that variable as **local** for the entire function\n",
    "2. This decision is made during **compile time**, before the function even runs\n",
    "3. When the function executes and tries to read `count` on the right side of `count = count + 1`, Python looks for it in the local scope\n",
    "4. Since `count` hasn't been assigned locally yet, we get `UnboundLocalError`\n",
    "\n",
    "### The Problem in This Example\n",
    "\n",
    "```python\n",
    "count = 0           # Global variable\n",
    "\n",
    "def increase():\n",
    "    count = count + 1  # ERROR! Python sees assignment, makes 'count' local\n",
    "                       # But tries to read 'count' before it's assigned locally\n",
    "    print(count)\n",
    "```\n",
    "\n",
    "**What Python sees:**\n",
    "\n",
    "- Line `count = count + 1` has an assignment, so `count` is marked as LOCAL\n",
    "- Right side tries to read `count`, but local `count` doesn't exist yet\n",
    "- Result: UnboundLocalError\n",
    "\n",
    "### Solutions\n",
    "\n",
    "Solution 1: Use the `global` keyword (if you want to modify the global variable)\n",
    "```python\n",
    "def increase():\n",
    "    global count       # Declare that we're using the global 'count'\n",
    "    count = count + 1\n",
    "    print(count)\n",
    "```\n",
    "\n",
    "Solution 2: Return a new value (better practice - avoid modifying globals)\n",
    "```python\n",
    "def increase(value):\n",
    "    return value + 1\n",
    "\n",
    "count = increase(count)\n",
    "```\n",
    "\n",
    "This error is Python's way of preventing ambiguous variable scope and potential bugs!"
   ]
  },
  {
   "cell_type": "code",
   "execution_count": 108,
   "metadata": {},
   "outputs": [
    {
     "ename": "UnboundLocalError",
     "evalue": "local variable 'count' referenced before assignment",
     "output_type": "error",
     "traceback": [
      "\u001b[0;31m---------------------------------------------------------------------------\u001b[0m",
      "\u001b[0;31mUnboundLocalError\u001b[0m                         Traceback (most recent call last)",
      "Cell \u001b[0;32mIn[108], line 7\u001b[0m\n\u001b[1;32m      4\u001b[0m     count \u001b[38;5;241m=\u001b[39m count \u001b[38;5;241m+\u001b[39m \u001b[38;5;241m1\u001b[39m\n\u001b[1;32m      5\u001b[0m     \u001b[38;5;28mprint\u001b[39m(count)\n\u001b[0;32m----> 7\u001b[0m \u001b[43mincrease\u001b[49m\u001b[43m(\u001b[49m\u001b[43m)\u001b[49m\n",
      "Cell \u001b[0;32mIn[108], line 4\u001b[0m, in \u001b[0;36mincrease\u001b[0;34m()\u001b[0m\n\u001b[1;32m      3\u001b[0m \u001b[38;5;28;01mdef\u001b[39;00m\u001b[38;5;250m \u001b[39m\u001b[38;5;21mincrease\u001b[39m():\n\u001b[0;32m----> 4\u001b[0m     count \u001b[38;5;241m=\u001b[39m \u001b[43mcount\u001b[49m \u001b[38;5;241m+\u001b[39m \u001b[38;5;241m1\u001b[39m\n\u001b[1;32m      5\u001b[0m     \u001b[38;5;28mprint\u001b[39m(count)\n",
      "\u001b[0;31mUnboundLocalError\u001b[0m: local variable 'count' referenced before assignment"
     ]
    }
   ],
   "source": [
    "count = 0\n",
    "\n",
    "def increase():\n",
    "    count = count + 1\n",
    "    print(count)\n",
    "\n",
    "increase()"
   ]
  }
 ],
 "metadata": {
  "colab": {
   "provenance": []
  },
  "kernelspec": {
   "display_name": "Python 3",
   "language": "python",
   "name": "python3"
  },
  "language_info": {
   "codemirror_mode": {
    "name": "ipython",
    "version": 3
   },
   "file_extension": ".py",
   "mimetype": "text/x-python",
   "name": "python",
   "nbconvert_exporter": "python",
   "pygments_lexer": "ipython3",
   "version": "3.10.19"
  }
 },
 "nbformat": 4,
 "nbformat_minor": 4
}