{
 "cells": [
  {
   "cell_type": "markdown",
   "metadata": {
    "id": "q75pkqhbEYUv"
   },
   "source": [
    "# Simple Recurrent Network (SRN)\n",
    "\n",
    "## Introduction\n",
    "\n",
    "The **Simple Recurrent Network (SRN)**, proposed by Jeff Elman (1990), is a basic form of Recurrent Neural Network (RNN) that can learn temporal sequences.\n",
    "\n",
    "Each hidden layer at time $t$ not only depends on the current input $x_t$, but also on the previous hidden state $h_{t-1}$, stored in a context layer.\n",
    "\n",
    "---\n",
    "\n",
    "## Mathematical Formulation\n",
    "\n",
    "The SRN is defined by the following equations:\n",
    "\n",
    "$$h_t = f(W_{hx} \\cdot x_t + W_{hh} \\cdot h_{t-1} + b_h)$$\n",
    "\n",
    "$$y_t = g(W_{yh} \\cdot h_t + b_y)$$\n",
    "\n",
    "### Where:\n",
    "\n",
    "- $h_t$ : hidden state at time $t$\n",
    "- $x_t$ : input at time $t$\n",
    "- $y_t$ : output at time $t$\n",
    "- $f$ : activation function for hidden layer (usually $\\tanh$)\n",
    "- $g$ : activation function for output (e.g., $\\text{softmax}$)\n",
    "- $W_{hx}$ : weight matrix from input to hidden layer\n",
    "- $W_{hh}$ : weight matrix from hidden to hidden (recurrent connections)\n",
    "- $W_{yh}$ : weight matrix from hidden to output layer\n",
    "- $b_h$, $b_y$ : bias vectors"
   ]
  },
  {
   "cell_type": "markdown",
   "metadata": {},
   "source": [
    "**1. Install prerequisite packages**"
   ]
  },
  {
   "cell_type": "code",
   "execution_count": 1,
   "metadata": {
    "collapsed": false,
    "execution": {
     "iopub.execute_input": "2025-10-13T21:11:08.618671Z",
     "iopub.status.busy": "2025-10-13T21:11:08.618484Z",
     "iopub.status.idle": "2025-10-13T21:11:09.514378Z",
     "shell.execute_reply": "2025-10-13T21:11:09.514033Z"
    },
    "jupyter": {
     "outputs_hidden": false
    }
   },
   "outputs": [
    {
     "data": {
      "text/plain": [
       "0"
      ]
     },
     "execution_count": 1,
     "metadata": {},
     "output_type": "execute_result"
    }
   ],
   "source": [
    "import sys\n",
    "import subprocess\n",
    "\n",
    "packages = [\n",
    "    'tensorflow',\n",
    "    'pillow',\n",
    "    'matplotlib',\n",
    "    'numpy'\n",
    "]\n",
    "\n",
    "subprocess.check_call([sys.executable, '-m', 'pip', 'install', '--quiet'] + packages)"
   ]
  },
  {
   "cell_type": "markdown",
   "metadata": {},
   "source": [
    "**2. Imports and Data Preparation**"
   ]
  },
  {
   "cell_type": "code",
   "execution_count": 2,
   "metadata": {},
   "outputs": [
    {
     "name": "stdout",
     "output_type": "stream",
     "text": [
      "TensorFlow version: 2.19.0\n",
      "Shape of X: (29, 10) Shape of y: (29,)\n"
     ]
    }
   ],
   "source": [
    "import tensorflow as tf\n",
    "from tensorflow import keras\n",
    "from tensorflow.keras import layers\n",
    "import numpy as np\n",
    "\n",
    "print(\"TensorFlow version:\", tf.__version__)\n",
    "\n",
    "# 1. The toy corpus\n",
    "# Symbolic input into numeric form that can be processed by neural networks.\n",
    "# ' '→0, 'e'→1, 'h'→2, 'i'→3, 'l'→4, 'n'→5, 'o'→6, 't'→7\n",
    "text = \"hello hinton hello hinton hello hinton \"\n",
    "chars = sorted(list(set(text)))  # unique characters\n",
    "stoi  = {ch: i for i, ch in enumerate(chars)}  # char to index\n",
    "itos  = {i: ch for ch, i in stoi.items()}      # index to char\n",
    "vocab_size = len(chars)\n",
    "\n",
    "# 2. Encode the text into integers\n",
    "# \"hello hinton\" → [2, 1, 4, 4, 6, 0, 2, 3, 5, 7, 6, 5, 0]\n",
    "encoded = [stoi[c] for c in text]\n",
    "\n",
    "# 3. Create input-output pairs\n",
    "seq_len = 10  # window size\n",
    "inputs, targets = [], []\n",
    "for i in range(len(encoded) - seq_len):\n",
    "    inputs.append(encoded[i:i+seq_len])\n",
    "    targets.append(encoded[i+seq_len])\n",
    "\n",
    "X = np.array(inputs, dtype=np.int32)\n",
    "y = np.array(targets, dtype=np.int32)\n",
    "\n",
    "print(\"Shape of X:\", X.shape, \"Shape of y:\", y.shape)"
   ]
  },
  {
   "cell_type": "markdown",
   "metadata": {},
   "source": [
    "**3. Build the SRN Model**"
   ]
  },
  {
   "cell_type": "code",
   "execution_count": 3,
   "metadata": {},
   "outputs": [
    {
     "name": "stderr",
     "output_type": "stream",
     "text": [
      "/Users/andy/.pyenv/versions/3.10.13/lib/python3.10/site-packages/keras/src/layers/core/embedding.py:90: UserWarning: Argument `input_length` is deprecated. Just remove it.\n",
      "  warnings.warn(\n"
     ]
    },
    {
     "data": {
      "text/html": [
       "<pre style=\"white-space:pre;overflow-x:auto;line-height:normal;font-family:Menlo,'DejaVu Sans Mono',consolas,'Courier New',monospace\"><span style=\"font-weight: bold\">Model: \"sequential\"</span>\n",
       "</pre>\n"
      ],
      "text/plain": [
       "\u001b[1mModel: \"sequential\"\u001b[0m\n"
      ]
     },
     "metadata": {},
     "output_type": "display_data"
    },
    {
     "data": {
      "text/html": [
       "<pre style=\"white-space:pre;overflow-x:auto;line-height:normal;font-family:Menlo,'DejaVu Sans Mono',consolas,'Courier New',monospace\">┏━━━━━━━━━━━━━━━━━━━━━━━━━━━━━━━━━┳━━━━━━━━━━━━━━━━━━━━━━━━┳━━━━━━━━━━━━━━━┓\n",
       "┃<span style=\"font-weight: bold\"> Layer (type)                    </span>┃<span style=\"font-weight: bold\"> Output Shape           </span>┃<span style=\"font-weight: bold\">       Param # </span>┃\n",
       "┡━━━━━━━━━━━━━━━━━━━━━━━━━━━━━━━━━╇━━━━━━━━━━━━━━━━━━━━━━━━╇━━━━━━━━━━━━━━━┩\n",
       "│ embedding (<span style=\"color: #0087ff; text-decoration-color: #0087ff\">Embedding</span>)           │ ?                      │   <span style=\"color: #00af00; text-decoration-color: #00af00\">0</span> (unbuilt) │\n",
       "├─────────────────────────────────┼────────────────────────┼───────────────┤\n",
       "│ simple_rnn (<span style=\"color: #0087ff; text-decoration-color: #0087ff\">SimpleRNN</span>)          │ ?                      │   <span style=\"color: #00af00; text-decoration-color: #00af00\">0</span> (unbuilt) │\n",
       "├─────────────────────────────────┼────────────────────────┼───────────────┤\n",
       "│ dense (<span style=\"color: #0087ff; text-decoration-color: #0087ff\">Dense</span>)                   │ ?                      │   <span style=\"color: #00af00; text-decoration-color: #00af00\">0</span> (unbuilt) │\n",
       "└─────────────────────────────────┴────────────────────────┴───────────────┘\n",
       "</pre>\n"
      ],
      "text/plain": [
       "┏━━━━━━━━━━━━━━━━━━━━━━━━━━━━━━━━━┳━━━━━━━━━━━━━━━━━━━━━━━━┳━━━━━━━━━━━━━━━┓\n",
       "┃\u001b[1m \u001b[0m\u001b[1mLayer (type)                   \u001b[0m\u001b[1m \u001b[0m┃\u001b[1m \u001b[0m\u001b[1mOutput Shape          \u001b[0m\u001b[1m \u001b[0m┃\u001b[1m \u001b[0m\u001b[1m      Param #\u001b[0m\u001b[1m \u001b[0m┃\n",
       "┡━━━━━━━━━━━━━━━━━━━━━━━━━━━━━━━━━╇━━━━━━━━━━━━━━━━━━━━━━━━╇━━━━━━━━━━━━━━━┩\n",
       "│ embedding (\u001b[38;5;33mEmbedding\u001b[0m)           │ ?                      │   \u001b[38;5;34m0\u001b[0m (unbuilt) │\n",
       "├─────────────────────────────────┼────────────────────────┼───────────────┤\n",
       "│ simple_rnn (\u001b[38;5;33mSimpleRNN\u001b[0m)          │ ?                      │   \u001b[38;5;34m0\u001b[0m (unbuilt) │\n",
       "├─────────────────────────────────┼────────────────────────┼───────────────┤\n",
       "│ dense (\u001b[38;5;33mDense\u001b[0m)                   │ ?                      │   \u001b[38;5;34m0\u001b[0m (unbuilt) │\n",
       "└─────────────────────────────────┴────────────────────────┴───────────────┘\n"
      ]
     },
     "metadata": {},
     "output_type": "display_data"
    },
    {
     "data": {
      "text/html": [
       "<pre style=\"white-space:pre;overflow-x:auto;line-height:normal;font-family:Menlo,'DejaVu Sans Mono',consolas,'Courier New',monospace\"><span style=\"font-weight: bold\"> Total params: </span><span style=\"color: #00af00; text-decoration-color: #00af00\">0</span> (0.00 B)\n",
       "</pre>\n"
      ],
      "text/plain": [
       "\u001b[1m Total params: \u001b[0m\u001b[38;5;34m0\u001b[0m (0.00 B)\n"
      ]
     },
     "metadata": {},
     "output_type": "display_data"
    },
    {
     "data": {
      "text/html": [
       "<pre style=\"white-space:pre;overflow-x:auto;line-height:normal;font-family:Menlo,'DejaVu Sans Mono',consolas,'Courier New',monospace\"><span style=\"font-weight: bold\"> Trainable params: </span><span style=\"color: #00af00; text-decoration-color: #00af00\">0</span> (0.00 B)\n",
       "</pre>\n"
      ],
      "text/plain": [
       "\u001b[1m Trainable params: \u001b[0m\u001b[38;5;34m0\u001b[0m (0.00 B)\n"
      ]
     },
     "metadata": {},
     "output_type": "display_data"
    },
    {
     "data": {
      "text/html": [
       "<pre style=\"white-space:pre;overflow-x:auto;line-height:normal;font-family:Menlo,'DejaVu Sans Mono',consolas,'Courier New',monospace\"><span style=\"font-weight: bold\"> Non-trainable params: </span><span style=\"color: #00af00; text-decoration-color: #00af00\">0</span> (0.00 B)\n",
       "</pre>\n"
      ],
      "text/plain": [
       "\u001b[1m Non-trainable params: \u001b[0m\u001b[38;5;34m0\u001b[0m (0.00 B)\n"
      ]
     },
     "metadata": {},
     "output_type": "display_data"
    }
   ],
   "source": [
    "embed_dim = 16\n",
    "hidden_size = 64\n",
    "seq_len = 10\n",
    "\n",
    "model = keras.Sequential([\n",
    "    layers.Embedding(input_dim=vocab_size, output_dim=embed_dim, input_length=seq_len),\n",
    "    layers.SimpleRNN(hidden_size, activation='tanh'),  # Elman SRN\n",
    "    layers.Dense(vocab_size, activation='softmax')\n",
    "])\n",
    "\n",
    "model.compile(\n",
    "    optimizer=keras.optimizers.Adam(0.01),\n",
    "    loss='sparse_categorical_crossentropy',\n",
    "    metrics=['accuracy']\n",
    ")\n",
    "\n",
    "model.summary()"
   ]
  },
  {
   "cell_type": "markdown",
   "metadata": {},
   "source": [
    "**4. Training (Automatic BPTT)**"
   ]
  },
  {
   "cell_type": "code",
   "execution_count": 4,
   "metadata": {},
   "outputs": [
    {
     "name": "stdout",
     "output_type": "stream",
     "text": [
      "Epoch 1/30\n",
      "1/1 - 0s - 408ms/step - accuracy: 0.0690 - loss: 2.0946\n",
      "Epoch 2/30\n",
      "1/1 - 0s - 4ms/step - accuracy: 0.4138 - loss: 1.7921\n",
      "Epoch 3/30\n",
      "1/1 - 0s - 4ms/step - accuracy: 0.7931 - loss: 1.2526\n",
      "Epoch 4/30\n",
      "1/1 - 0s - 4ms/step - accuracy: 0.7241 - loss: 0.8587\n",
      "Epoch 5/30\n",
      "1/1 - 0s - 4ms/step - accuracy: 0.9310 - loss: 0.5942\n",
      "Epoch 6/30\n",
      "1/1 - 0s - 4ms/step - accuracy: 0.8621 - loss: 0.4787\n",
      "Epoch 7/30\n",
      "1/1 - 0s - 3ms/step - accuracy: 0.9310 - loss: 0.3649\n",
      "Epoch 8/30\n",
      "1/1 - 0s - 3ms/step - accuracy: 1.0000 - loss: 0.2677\n",
      "Epoch 9/30\n",
      "1/1 - 0s - 3ms/step - accuracy: 1.0000 - loss: 0.1952\n",
      "Epoch 10/30\n",
      "1/1 - 0s - 3ms/step - accuracy: 1.0000 - loss: 0.1262\n",
      "Epoch 11/30\n",
      "1/1 - 0s - 3ms/step - accuracy: 1.0000 - loss: 0.0994\n",
      "Epoch 12/30\n",
      "1/1 - 0s - 3ms/step - accuracy: 1.0000 - loss: 0.0737\n",
      "Epoch 13/30\n",
      "1/1 - 0s - 3ms/step - accuracy: 1.0000 - loss: 0.0466\n",
      "Epoch 14/30\n",
      "1/1 - 0s - 3ms/step - accuracy: 1.0000 - loss: 0.0317\n",
      "Epoch 15/30\n",
      "1/1 - 0s - 3ms/step - accuracy: 1.0000 - loss: 0.0266\n",
      "Epoch 16/30\n",
      "1/1 - 0s - 12ms/step - accuracy: 1.0000 - loss: 0.0235\n",
      "Epoch 17/30\n",
      "1/1 - 0s - 9ms/step - accuracy: 1.0000 - loss: 0.0180\n",
      "Epoch 18/30\n",
      "1/1 - 0s - 12ms/step - accuracy: 1.0000 - loss: 0.0135\n",
      "Epoch 19/30\n",
      "1/1 - 0s - 4ms/step - accuracy: 1.0000 - loss: 0.0107\n",
      "Epoch 20/30\n",
      "1/1 - 0s - 7ms/step - accuracy: 1.0000 - loss: 0.0090\n",
      "Epoch 21/30\n",
      "1/1 - 0s - 3ms/step - accuracy: 1.0000 - loss: 0.0078\n",
      "Epoch 22/30\n",
      "1/1 - 0s - 3ms/step - accuracy: 1.0000 - loss: 0.0069\n",
      "Epoch 23/30\n",
      "1/1 - 0s - 3ms/step - accuracy: 1.0000 - loss: 0.0060\n",
      "Epoch 24/30\n",
      "1/1 - 0s - 3ms/step - accuracy: 1.0000 - loss: 0.0051\n",
      "Epoch 25/30\n",
      "1/1 - 0s - 4ms/step - accuracy: 1.0000 - loss: 0.0044\n",
      "Epoch 26/30\n",
      "1/1 - 0s - 4ms/step - accuracy: 1.0000 - loss: 0.0037\n",
      "Epoch 27/30\n",
      "1/1 - 0s - 5ms/step - accuracy: 1.0000 - loss: 0.0032\n",
      "Epoch 28/30\n",
      "1/1 - 0s - 5ms/step - accuracy: 1.0000 - loss: 0.0028\n",
      "Epoch 29/30\n",
      "1/1 - 0s - 5ms/step - accuracy: 1.0000 - loss: 0.0024\n",
      "Epoch 30/30\n",
      "1/1 - 0s - 4ms/step - accuracy: 1.0000 - loss: 0.0022\n"
     ]
    }
   ],
   "source": [
    "batch_size = 32\n",
    "# For each 10-character sequence, the model predicts the next character.\n",
    "dataset = tf.data.Dataset.from_tensor_slices((X, y)).shuffle(1000).batch(batch_size)\n",
    "# TensorFlow runs autograd to backpropagate the loss through all time steps (BPTT).\n",
    "history = model.fit(dataset, epochs=30, verbose=2)"
   ]
  },
  {
   "cell_type": "markdown",
   "metadata": {},
   "source": [
    "**5. Generate Text (Prediction)**"
   ]
  },
  {
   "cell_type": "code",
   "execution_count": 5,
   "metadata": {},
   "outputs": [
    {
     "name": "stdout",
     "output_type": "stream",
     "text": [
      "hello  inton hello hinton hello hinton hello hinton hello hinton h\n"
     ]
    }
   ],
   "source": [
    "def sample_next_char(probs, temperature=1.0):\n",
    "    probs = np.asarray(probs).astype('float64')\n",
    "    if temperature != 1.0:\n",
    "        probs = np.log(probs + 1e-9) / temperature\n",
    "        probs = np.exp(probs)\n",
    "    probs = probs / np.sum(probs)\n",
    "    return np.random.choice(len(probs), p=probs)\n",
    "\n",
    "def generate(seed=\"hello \", gen_len=60, temperature=0.8):\n",
    "    context = [stoi[c] for c in seed[-10:]]  # use last 10 chars\n",
    "    output = list(seed)\n",
    "\n",
    "    for _ in range(gen_len):\n",
    "        x = np.array(context[-seq_len:], dtype=np.int32)[None, :]\n",
    "        probs = model.predict(x, verbose=0)[0]\n",
    "        idx = sample_next_char(probs, temperature)\n",
    "        output.append(itos[idx])\n",
    "        context.append(idx)\n",
    "\n",
    "    return \"\".join(output)\n",
    "\n",
    "print(generate(seed=\"hello \", gen_len=60, temperature=0.8))"
   ]
  },
  {
   "cell_type": "markdown",
   "metadata": {},
   "source": [
    "The SRN successfully learned short-term temporal structure of the text —\n",
    "it “remembers” the pattern \"hello hinton\" even though it only sees 10 characters at a time."
   ]
  }
 ],
 "metadata": {
  "colab": {
   "provenance": []
  },
  "kernelspec": {
   "display_name": "3.10.13",
   "language": "python",
   "name": "python3"
  },
  "language_info": {
   "codemirror_mode": {
    "name": "ipython",
    "version": 3
   },
   "file_extension": ".py",
   "mimetype": "text/x-python",
   "name": "python",
   "nbconvert_exporter": "python",
   "pygments_lexer": "ipython3",
   "version": "3.10.13"
  }
 },
 "nbformat": 4,
 "nbformat_minor": 4
}
